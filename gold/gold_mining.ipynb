{
 "cells": [
  {
   "cell_type": "markdown",
   "metadata": {},
   "source": [
    "# Project Description"
   ]
  },
  {
   "cell_type": "markdown",
   "metadata": {},
   "source": [
    "The data is stored in three files:\n",
    "\n",
    "gold_recovery_train.csv — training dataset download\n",
    "gold_recovery_test.csv — test dataset download\n",
    "gold_recovery_full.csv — source dataset download\n",
    "Data is indexed with the date and time of acquisition (date feature). Parameters that are next to each other in terms of time are often similar.\n",
    "\n",
    "Some parameters are not available because they were measured and/or calculated much later. That's why, some of the features that are present in the training set may be absent from the test set. The test set also doesn't contain targets.\n",
    "\n",
    "The source dataset contains the training and test sets with all the features.\n",
    "\n",
    "You have the raw data that was only downloaded from the warehouse. Before building the model, check the correctness of the data."
   ]
  },
  {
   "cell_type": "markdown",
   "metadata": {},
   "source": [
    "##  Prepare the data"
   ]
  },
  {
   "cell_type": "markdown",
   "metadata": {},
   "source": [
    "### Open the files and look into the data"
   ]
  },
  {
   "cell_type": "code",
   "execution_count": 113,
   "metadata": {},
   "outputs": [],
   "source": [
    "#making sure not to see warnings\n",
    "import sys\n",
    "import warnings\n",
    "if not sys.warnoptions:\n",
    "    warnings.simplefilter(\"ignore\")"
   ]
  },
  {
   "cell_type": "code",
   "execution_count": 114,
   "metadata": {},
   "outputs": [],
   "source": [
    "#importing Libraries\n",
    "import pandas as pd\n",
    "import numpy as np\n",
    "import seaborn as sns\n",
    "from scipy import stats as st\n",
    "\n",
    "from sklearn.linear_model import LinearRegression\n",
    "from sklearn.linear_model import Lasso\n",
    "from sklearn.linear_model import LogisticRegression\n",
    "\n",
    "from matplotlib import pyplot as plt\n",
    "\n",
    "from sklearn.utils import resample\n",
    "from sklearn.utils import shuffle\n",
    "\n",
    "from sklearn.preprocessing import StandardScaler\n",
    "\n",
    "from joblib import dump\n",
    "\n",
    "from sklearn.model_selection import train_test_split as tts\n",
    "from sklearn.model_selection import cross_val_score\n",
    "from sklearn.model_selection import GridSearchCV\n",
    "\n",
    "from sklearn.metrics import make_scorer\n",
    "from sklearn.metrics import mean_squared_error\n",
    "from sklearn.metrics import mean_absolute_error\n",
    "from sklearn.metrics import r2_score\n",
    "from sklearn.metrics import f1_score\n",
    "from sklearn.metrics import accuracy_score\n",
    "from sklearn.metrics import recall_score\n",
    "from sklearn.metrics import precision_score\n",
    "from sklearn.metrics import roc_auc_score\n",
    "from sklearn.metrics import roc_curve\n",
    "\n",
    "from sklearn.tree import DecisionTreeRegressor\n",
    "from sklearn.ensemble import RandomForestRegressor\n",
    "from numpy.random import RandomState\n",
    "\n",
    "from sklearn.dummy import DummyRegressor\n",
    "from sklearn.dummy import DummyClassifier\n",
    "\n",
    "from sklearn.model_selection import *\n",
    "from sklearn.ensemble import *\n",
    "from sklearn.tree import DecisionTreeRegressor\n",
    "from sklearn.linear_model import *\n",
    "from sklearn.metrics import *"
   ]
  },
  {
   "cell_type": "code",
   "execution_count": 115,
   "metadata": {},
   "outputs": [],
   "source": [
    "#Let's Load Data\n",
    "training = pd.read_csv('/datasets/gold_recovery_train.csv')\n",
    "\n",
    "testing = pd.read_csv('/datasets/gold_recovery_test.csv')\n",
    "\n",
    "source = pd.read_csv('/datasets/gold_recovery_full.csv')"
   ]
  },
  {
   "cell_type": "code",
   "execution_count": 116,
   "metadata": {},
   "outputs": [],
   "source": [
    "#Writing function to get a premilinary glence\n",
    "def read_data(data):\n",
    "    print(data.head())\n",
    "    print(data.isna().sum())\n",
    "    print(data.info())\n",
    "    print(data.describe())"
   ]
  },
  {
   "cell_type": "code",
   "execution_count": 117,
   "metadata": {},
   "outputs": [],
   "source": [
    "#printing the list of the column of strings\n",
    "def str_cols(data, string):\n",
    "    columns = [col for col in data.columns if string in col]\n",
    "    print(list(data[columns]))\n",
    "    return data[columns]"
   ]
  },
  {
   "cell_type": "code",
   "execution_count": 118,
   "metadata": {},
   "outputs": [],
   "source": [
    "#this function is to calculate recovery\n",
    "def recover_cal(data,c,f,t):\n",
    "    calculation = 100 * (data[c] * (data[f] - data[t])) / (data[f] * (data[c] - data[t]))\n",
    "    return calculation"
   ]
  },
  {
   "cell_type": "code",
   "execution_count": 119,
   "metadata": {},
   "outputs": [],
   "source": [
    "#to remove the rows with Na\n",
    "def dropna(a,b):\n",
    "    data = pd.DataFrame({'a':a, 'b':b}).dropna()\n",
    "    return data"
   ]
  },
  {
   "cell_type": "code",
   "execution_count": 120,
   "metadata": {},
   "outputs": [],
   "source": [
    "def rougher(data, metal, rougher, feed, inpu):\n",
    "    \n",
    "    au_rougher = str_cols(training,metal)\n",
    "    au_rougher = str_cols(au_rougher,rougher)\n",
    "    au_rougher = str_cols(au_rougher,feed)\n",
    "    au_rougher = str_cols(au_rougher,inpu)\n",
    "    mean = au_rougher.mean()\n",
    "    return mean[0]"
   ]
  },
  {
   "cell_type": "code",
   "execution_count": 121,
   "metadata": {},
   "outputs": [],
   "source": [
    "def concentrate_sum(data,drop1,drop2):\n",
    "    rougher_input_feed = str_cols(source,'rougher.input.feed')\n",
    "    rougher_input_feed = rougher_input_feed.drop(drop1,axis=1)\n",
    "    rougher_input_feed = rougher_input_feed.drop(drop2,axis=1)\n",
    "    return list(data[rougher_input_feed.columns])"
   ]
  },
  {
   "cell_type": "code",
   "execution_count": 122,
   "metadata": {},
   "outputs": [],
   "source": [
    "def smape_helper(target, predicted):\n",
    "    ratio = np.divide(np.abs(target - predicted), (np.abs(target) + np.abs(predicted)) / 2 + 1e-10)  # Adding epsilon to avoid division by zero\n",
    "    value = np.average(ratio, axis=0)\n",
    "    return value\n",
    "\n",
    "def f_smape2(y_true, y_pred):\n",
    "    predicted_rough, predicted_final = y_pred[:, 1], y_pred[:, 0]\n",
    "    true_rough, true_final = y_true[:, 1], y_true[:, 0]\n",
    "    f_smape_value = -1 * (.25 * smape_helper(true_rough, predicted_rough)) + (.75 * smape_helper(true_final, predicted_final))\n",
    "    return f_smape_value\n",
    "\n",
    "# Turning our smape function into a scorer for cross-validation\n",
    "smape_score = make_scorer(f_smape2, greater_is_better=True)"
   ]
  },
  {
   "cell_type": "code",
   "execution_count": 124,
   "metadata": {},
   "outputs": [
    {
     "name": "stdout",
     "output_type": "stream",
     "text": [
      "                  date  final.output.concentrate_ag  \\\n",
      "0  2016-01-15 00:00:00                     6.055403   \n",
      "1  2016-01-15 01:00:00                     6.029369   \n",
      "2  2016-01-15 02:00:00                     6.055926   \n",
      "3  2016-01-15 03:00:00                     6.047977   \n",
      "4  2016-01-15 04:00:00                     6.148599   \n",
      "\n",
      "   final.output.concentrate_pb  final.output.concentrate_sol  \\\n",
      "0                     9.889648                      5.507324   \n",
      "1                     9.968944                      5.257781   \n",
      "2                    10.213995                      5.383759   \n",
      "3                     9.977019                      4.858634   \n",
      "4                    10.142511                      4.939416   \n",
      "\n",
      "   final.output.concentrate_au  final.output.recovery  final.output.tail_ag  \\\n",
      "0                    42.192020              70.541216             10.411962   \n",
      "1                    42.701629              69.266198             10.462676   \n",
      "2                    42.657501              68.116445             10.507046   \n",
      "3                    42.689819              68.347543             10.422762   \n",
      "4                    42.774141              66.927016             10.360302   \n",
      "\n",
      "   final.output.tail_pb  final.output.tail_sol  final.output.tail_au  ...  \\\n",
      "0              0.895447              16.904297              2.143149  ...   \n",
      "1              0.927452              16.634514              2.224930  ...   \n",
      "2              0.953716              16.208849              2.257889  ...   \n",
      "3              0.883763              16.532835              2.146849  ...   \n",
      "4              0.792826              16.525686              2.055292  ...   \n",
      "\n",
      "   secondary_cleaner.state.floatbank4_a_air  \\\n",
      "0                                 14.016835   \n",
      "1                                 13.992281   \n",
      "2                                 14.015015   \n",
      "3                                 14.036510   \n",
      "4                                 14.027298   \n",
      "\n",
      "   secondary_cleaner.state.floatbank4_a_level  \\\n",
      "0                                 -502.488007   \n",
      "1                                 -505.503262   \n",
      "2                                 -502.520901   \n",
      "3                                 -500.857308   \n",
      "4                                 -499.838632   \n",
      "\n",
      "   secondary_cleaner.state.floatbank4_b_air  \\\n",
      "0                                 12.099931   \n",
      "1                                 11.950531   \n",
      "2                                 11.912783   \n",
      "3                                 11.999550   \n",
      "4                                 11.953070   \n",
      "\n",
      "   secondary_cleaner.state.floatbank4_b_level  \\\n",
      "0                                 -504.715942   \n",
      "1                                 -501.331529   \n",
      "2                                 -501.133383   \n",
      "3                                 -501.193686   \n",
      "4                                 -501.053894   \n",
      "\n",
      "   secondary_cleaner.state.floatbank5_a_air  \\\n",
      "0                                  9.925633   \n",
      "1                                 10.039245   \n",
      "2                                 10.070913   \n",
      "3                                  9.970366   \n",
      "4                                  9.925709   \n",
      "\n",
      "   secondary_cleaner.state.floatbank5_a_level  \\\n",
      "0                                 -498.310211   \n",
      "1                                 -500.169983   \n",
      "2                                 -500.129135   \n",
      "3                                 -499.201640   \n",
      "4                                 -501.686727   \n",
      "\n",
      "   secondary_cleaner.state.floatbank5_b_air  \\\n",
      "0                                  8.079666   \n",
      "1                                  7.984757   \n",
      "2                                  8.013877   \n",
      "3                                  7.977324   \n",
      "4                                  7.894242   \n",
      "\n",
      "   secondary_cleaner.state.floatbank5_b_level  \\\n",
      "0                                 -500.470978   \n",
      "1                                 -500.582168   \n",
      "2                                 -500.517572   \n",
      "3                                 -500.255908   \n",
      "4                                 -500.356035   \n",
      "\n",
      "   secondary_cleaner.state.floatbank6_a_air  \\\n",
      "0                                 14.151341   \n",
      "1                                 13.998353   \n",
      "2                                 14.028663   \n",
      "3                                 14.005551   \n",
      "4                                 13.996647   \n",
      "\n",
      "   secondary_cleaner.state.floatbank6_a_level  \n",
      "0                                 -605.841980  \n",
      "1                                 -599.787184  \n",
      "2                                 -601.427363  \n",
      "3                                 -599.996129  \n",
      "4                                 -601.496691  \n",
      "\n",
      "[5 rows x 87 columns]\n",
      "date                                            0\n",
      "final.output.concentrate_ag                    72\n",
      "final.output.concentrate_pb                    72\n",
      "final.output.concentrate_sol                  370\n",
      "final.output.concentrate_au                    71\n",
      "                                             ... \n",
      "secondary_cleaner.state.floatbank5_a_level     85\n",
      "secondary_cleaner.state.floatbank5_b_air       85\n",
      "secondary_cleaner.state.floatbank5_b_level     84\n",
      "secondary_cleaner.state.floatbank6_a_air      103\n",
      "secondary_cleaner.state.floatbank6_a_level     85\n",
      "Length: 87, dtype: int64\n",
      "<class 'pandas.core.frame.DataFrame'>\n",
      "RangeIndex: 16860 entries, 0 to 16859\n",
      "Data columns (total 87 columns):\n",
      " #   Column                                              Non-Null Count  Dtype  \n",
      "---  ------                                              --------------  -----  \n",
      " 0   date                                                16860 non-null  object \n",
      " 1   final.output.concentrate_ag                         16788 non-null  float64\n",
      " 2   final.output.concentrate_pb                         16788 non-null  float64\n",
      " 3   final.output.concentrate_sol                        16490 non-null  float64\n",
      " 4   final.output.concentrate_au                         16789 non-null  float64\n",
      " 5   final.output.recovery                               15339 non-null  float64\n",
      " 6   final.output.tail_ag                                16794 non-null  float64\n",
      " 7   final.output.tail_pb                                16677 non-null  float64\n",
      " 8   final.output.tail_sol                               16715 non-null  float64\n",
      " 9   final.output.tail_au                                16794 non-null  float64\n",
      " 10  primary_cleaner.input.sulfate                       15553 non-null  float64\n",
      " 11  primary_cleaner.input.depressant                    15598 non-null  float64\n",
      " 12  primary_cleaner.input.feed_size                     16860 non-null  float64\n",
      " 13  primary_cleaner.input.xanthate                      15875 non-null  float64\n",
      " 14  primary_cleaner.output.concentrate_ag               16778 non-null  float64\n",
      " 15  primary_cleaner.output.concentrate_pb               16502 non-null  float64\n",
      " 16  primary_cleaner.output.concentrate_sol              16224 non-null  float64\n",
      " 17  primary_cleaner.output.concentrate_au               16778 non-null  float64\n",
      " 18  primary_cleaner.output.tail_ag                      16777 non-null  float64\n",
      " 19  primary_cleaner.output.tail_pb                      16761 non-null  float64\n",
      " 20  primary_cleaner.output.tail_sol                     16579 non-null  float64\n",
      " 21  primary_cleaner.output.tail_au                      16777 non-null  float64\n",
      " 22  primary_cleaner.state.floatbank8_a_air              16820 non-null  float64\n",
      " 23  primary_cleaner.state.floatbank8_a_level            16827 non-null  float64\n",
      " 24  primary_cleaner.state.floatbank8_b_air              16820 non-null  float64\n",
      " 25  primary_cleaner.state.floatbank8_b_level            16833 non-null  float64\n",
      " 26  primary_cleaner.state.floatbank8_c_air              16822 non-null  float64\n",
      " 27  primary_cleaner.state.floatbank8_c_level            16833 non-null  float64\n",
      " 28  primary_cleaner.state.floatbank8_d_air              16821 non-null  float64\n",
      " 29  primary_cleaner.state.floatbank8_d_level            16833 non-null  float64\n",
      " 30  rougher.calculation.sulfate_to_au_concentrate       16833 non-null  float64\n",
      " 31  rougher.calculation.floatbank10_sulfate_to_au_feed  16833 non-null  float64\n",
      " 32  rougher.calculation.floatbank11_sulfate_to_au_feed  16833 non-null  float64\n",
      " 33  rougher.calculation.au_pb_ratio                     15618 non-null  float64\n",
      " 34  rougher.input.feed_ag                               16778 non-null  float64\n",
      " 35  rougher.input.feed_pb                               16632 non-null  float64\n",
      " 36  rougher.input.feed_rate                             16347 non-null  float64\n",
      " 37  rougher.input.feed_size                             16443 non-null  float64\n",
      " 38  rougher.input.feed_sol                              16568 non-null  float64\n",
      " 39  rougher.input.feed_au                               16777 non-null  float64\n",
      " 40  rougher.input.floatbank10_sulfate                   15816 non-null  float64\n",
      " 41  rougher.input.floatbank10_xanthate                  16514 non-null  float64\n",
      " 42  rougher.input.floatbank11_sulfate                   16237 non-null  float64\n",
      " 43  rougher.input.floatbank11_xanthate                  14956 non-null  float64\n",
      " 44  rougher.output.concentrate_ag                       16778 non-null  float64\n",
      " 45  rougher.output.concentrate_pb                       16778 non-null  float64\n",
      " 46  rougher.output.concentrate_sol                      16698 non-null  float64\n",
      " 47  rougher.output.concentrate_au                       16778 non-null  float64\n",
      " 48  rougher.output.recovery                             14287 non-null  float64\n",
      " 49  rougher.output.tail_ag                              14610 non-null  float64\n",
      " 50  rougher.output.tail_pb                              16778 non-null  float64\n",
      " 51  rougher.output.tail_sol                             14611 non-null  float64\n",
      " 52  rougher.output.tail_au                              14611 non-null  float64\n",
      " 53  rougher.state.floatbank10_a_air                     16807 non-null  float64\n",
      " 54  rougher.state.floatbank10_a_level                   16807 non-null  float64\n",
      " 55  rougher.state.floatbank10_b_air                     16807 non-null  float64\n",
      " 56  rougher.state.floatbank10_b_level                   16807 non-null  float64\n",
      " 57  rougher.state.floatbank10_c_air                     16807 non-null  float64\n",
      " 58  rougher.state.floatbank10_c_level                   16814 non-null  float64\n",
      " 59  rougher.state.floatbank10_d_air                     16802 non-null  float64\n",
      " 60  rougher.state.floatbank10_d_level                   16809 non-null  float64\n",
      " 61  rougher.state.floatbank10_e_air                     16257 non-null  float64\n",
      " 62  rougher.state.floatbank10_e_level                   16809 non-null  float64\n",
      " 63  rougher.state.floatbank10_f_air                     16802 non-null  float64\n",
      " 64  rougher.state.floatbank10_f_level                   16802 non-null  float64\n",
      " 65  secondary_cleaner.output.tail_ag                    16776 non-null  float64\n",
      " 66  secondary_cleaner.output.tail_pb                    16764 non-null  float64\n",
      " 67  secondary_cleaner.output.tail_sol                   14874 non-null  float64\n",
      " 68  secondary_cleaner.output.tail_au                    16778 non-null  float64\n",
      " 69  secondary_cleaner.state.floatbank2_a_air            16497 non-null  float64\n",
      " 70  secondary_cleaner.state.floatbank2_a_level          16751 non-null  float64\n",
      " 71  secondary_cleaner.state.floatbank2_b_air            16705 non-null  float64\n",
      " 72  secondary_cleaner.state.floatbank2_b_level          16748 non-null  float64\n",
      " 73  secondary_cleaner.state.floatbank3_a_air            16763 non-null  float64\n",
      " 74  secondary_cleaner.state.floatbank3_a_level          16747 non-null  float64\n",
      " 75  secondary_cleaner.state.floatbank3_b_air            16752 non-null  float64\n",
      " 76  secondary_cleaner.state.floatbank3_b_level          16750 non-null  float64\n",
      " 77  secondary_cleaner.state.floatbank4_a_air            16731 non-null  float64\n",
      " 78  secondary_cleaner.state.floatbank4_a_level          16747 non-null  float64\n",
      " 79  secondary_cleaner.state.floatbank4_b_air            16768 non-null  float64\n",
      " 80  secondary_cleaner.state.floatbank4_b_level          16767 non-null  float64\n",
      " 81  secondary_cleaner.state.floatbank5_a_air            16775 non-null  float64\n",
      " 82  secondary_cleaner.state.floatbank5_a_level          16775 non-null  float64\n",
      " 83  secondary_cleaner.state.floatbank5_b_air            16775 non-null  float64\n",
      " 84  secondary_cleaner.state.floatbank5_b_level          16776 non-null  float64\n",
      " 85  secondary_cleaner.state.floatbank6_a_air            16757 non-null  float64\n",
      " 86  secondary_cleaner.state.floatbank6_a_level          16775 non-null  float64\n",
      "dtypes: float64(86), object(1)\n",
      "memory usage: 11.2+ MB\n",
      "None\n"
     ]
    },
    {
     "name": "stdout",
     "output_type": "stream",
     "text": [
      "       final.output.concentrate_ag  final.output.concentrate_pb  \\\n",
      "count                 16788.000000                 16788.000000   \n",
      "mean                      4.716907                     9.113559   \n",
      "std                       2.096718                     3.389495   \n",
      "min                       0.000000                     0.000000   \n",
      "25%                       3.971262                     8.825748   \n",
      "50%                       4.869346                    10.065316   \n",
      "75%                       5.821176                    11.054809   \n",
      "max                      16.001945                    17.031899   \n",
      "\n",
      "       final.output.concentrate_sol  final.output.concentrate_au  \\\n",
      "count                  16490.000000                 16789.000000   \n",
      "mean                       8.301123                    39.467217   \n",
      "std                        3.825760                    13.917227   \n",
      "min                        0.000000                     0.000000   \n",
      "25%                        6.939185                    42.055722   \n",
      "50%                        8.557228                    44.498874   \n",
      "75%                       10.289741                    45.976222   \n",
      "max                       18.124851                    53.611374   \n",
      "\n",
      "       final.output.recovery  final.output.tail_ag  final.output.tail_pb  \\\n",
      "count           15339.000000          16794.000000          16677.000000   \n",
      "mean               67.213166              8.757048              2.360327   \n",
      "std                11.960446              3.634103              1.215576   \n",
      "min                 0.000000              0.000000              0.000000   \n",
      "25%                62.625685              7.610544              1.641604   \n",
      "50%                67.644601              9.220393              2.453690   \n",
      "75%                72.824595             10.971110              3.192404   \n",
      "max               100.000000             19.552149              6.086532   \n",
      "\n",
      "       final.output.tail_sol  final.output.tail_au  \\\n",
      "count           16715.000000          16794.000000   \n",
      "mean                9.303932              2.687512   \n",
      "std                 4.263208              1.272757   \n",
      "min                 0.000000              0.000000   \n",
      "25%                 7.870275              2.172953   \n",
      "50%                10.021968              2.781132   \n",
      "75%                11.648573              3.416936   \n",
      "max                22.317730              9.789625   \n",
      "\n",
      "       primary_cleaner.input.sulfate  ...  \\\n",
      "count                   15553.000000  ...   \n",
      "mean                      129.479789  ...   \n",
      "std                        45.386931  ...   \n",
      "min                         0.000003  ...   \n",
      "25%                       103.064021  ...   \n",
      "50%                       131.783108  ...   \n",
      "75%                       159.539839  ...   \n",
      "max                       251.999948  ...   \n",
      "\n",
      "       secondary_cleaner.state.floatbank4_a_air  \\\n",
      "count                              16731.000000   \n",
      "mean                                  19.101874   \n",
      "std                                    6.883163   \n",
      "min                                    0.000000   \n",
      "25%                                   14.508299   \n",
      "50%                                   19.986958   \n",
      "75%                                   24.983961   \n",
      "max                                   60.000000   \n",
      "\n",
      "       secondary_cleaner.state.floatbank4_a_level  \\\n",
      "count                                16747.000000   \n",
      "mean                                  -494.164481   \n",
      "std                                     84.803334   \n",
      "min                                   -799.920713   \n",
      "25%                                   -500.837689   \n",
      "50%                                   -499.778379   \n",
      "75%                                   -494.648754   \n",
      "max                                   -127.692333   \n",
      "\n",
      "       secondary_cleaner.state.floatbank4_b_air  \\\n",
      "count                              16768.000000   \n",
      "mean                                  14.778164   \n",
      "std                                    5.999149   \n",
      "min                                    0.000000   \n",
      "25%                                   10.741388   \n",
      "50%                                   14.943933   \n",
      "75%                                   20.023751   \n",
      "max                                   28.003828   \n",
      "\n",
      "       secondary_cleaner.state.floatbank4_b_level  \\\n",
      "count                                16767.000000   \n",
      "mean                                  -476.600082   \n",
      "std                                     89.381172   \n",
      "min                                   -800.021781   \n",
      "25%                                   -500.269182   \n",
      "50%                                   -499.593286   \n",
      "75%                                   -400.137948   \n",
      "max                                    -71.472472   \n",
      "\n",
      "       secondary_cleaner.state.floatbank5_a_air  \\\n",
      "count                              16775.000000   \n",
      "mean                                  15.779488   \n",
      "std                                    6.834703   \n",
      "min                                   -0.423260   \n",
      "25%                                   10.977713   \n",
      "50%                                   15.998340   \n",
      "75%                                   20.000701   \n",
      "max                                   63.116298   \n",
      "\n",
      "       secondary_cleaner.state.floatbank5_a_level  \\\n",
      "count                                16775.000000   \n",
      "mean                                  -500.230146   \n",
      "std                                     76.983542   \n",
      "min                                   -799.741097   \n",
      "25%                                   -500.530594   \n",
      "50%                                   -499.784231   \n",
      "75%                                   -496.531781   \n",
      "max                                   -275.073125   \n",
      "\n",
      "       secondary_cleaner.state.floatbank5_b_air  \\\n",
      "count                              16775.000000   \n",
      "mean                                  12.377241   \n",
      "std                                    6.219989   \n",
      "min                                    0.427084   \n",
      "25%                                    8.925586   \n",
      "50%                                   11.092839   \n",
      "75%                                   15.979467   \n",
      "max                                   39.846228   \n",
      "\n",
      "       secondary_cleaner.state.floatbank5_b_level  \\\n",
      "count                                16776.000000   \n",
      "mean                                  -498.956257   \n",
      "std                                     82.146207   \n",
      "min                                   -800.258209   \n",
      "25%                                   -500.147603   \n",
      "50%                                   -499.933330   \n",
      "75%                                   -498.418000   \n",
      "max                                   -120.190931   \n",
      "\n",
      "       secondary_cleaner.state.floatbank6_a_air  \\\n",
      "count                              16757.000000   \n",
      "mean                                  18.429208   \n",
      "std                                    6.958294   \n",
      "min                                    0.024270   \n",
      "25%                                   13.977626   \n",
      "50%                                   18.034960   \n",
      "75%                                   24.984992   \n",
      "max                                   54.876806   \n",
      "\n",
      "       secondary_cleaner.state.floatbank6_a_level  \n",
      "count                                16775.000000  \n",
      "mean                                  -521.801826  \n",
      "std                                     77.170888  \n",
      "min                                   -810.473526  \n",
      "25%                                   -501.080595  \n",
      "50%                                   -500.109898  \n",
      "75%                                   -499.565540  \n",
      "max                                    -39.784927  \n",
      "\n",
      "[8 rows x 86 columns]\n"
     ]
    }
   ],
   "source": [
    "read_data(training)"
   ]
  },
  {
   "cell_type": "code",
   "execution_count": 125,
   "metadata": {
    "scrolled": false
   },
   "outputs": [
    {
     "name": "stdout",
     "output_type": "stream",
     "text": [
      "                  date  primary_cleaner.input.sulfate  \\\n",
      "0  2016-09-01 00:59:59                     210.800909   \n",
      "1  2016-09-01 01:59:59                     215.392455   \n",
      "2  2016-09-01 02:59:59                     215.259946   \n",
      "3  2016-09-01 03:59:59                     215.336236   \n",
      "4  2016-09-01 04:59:59                     199.099327   \n",
      "\n",
      "   primary_cleaner.input.depressant  primary_cleaner.input.feed_size  \\\n",
      "0                         14.993118                         8.080000   \n",
      "1                         14.987471                         8.080000   \n",
      "2                         12.884934                         7.786667   \n",
      "3                         12.006805                         7.640000   \n",
      "4                         10.682530                         7.530000   \n",
      "\n",
      "   primary_cleaner.input.xanthate  primary_cleaner.state.floatbank8_a_air  \\\n",
      "0                        1.005021                             1398.981301   \n",
      "1                        0.990469                             1398.777912   \n",
      "2                        0.996043                             1398.493666   \n",
      "3                        0.863514                             1399.618111   \n",
      "4                        0.805575                             1401.268123   \n",
      "\n",
      "   primary_cleaner.state.floatbank8_a_level  \\\n",
      "0                               -500.225577   \n",
      "1                               -500.057435   \n",
      "2                               -500.868360   \n",
      "3                               -498.863574   \n",
      "4                               -500.808305   \n",
      "\n",
      "   primary_cleaner.state.floatbank8_b_air  \\\n",
      "0                             1399.144926   \n",
      "1                             1398.055362   \n",
      "2                             1398.860436   \n",
      "3                             1397.440120   \n",
      "4                             1398.128818   \n",
      "\n",
      "   primary_cleaner.state.floatbank8_b_level  \\\n",
      "0                               -499.919735   \n",
      "1                               -499.778182   \n",
      "2                               -499.764529   \n",
      "3                               -499.211024   \n",
      "4                               -499.504543   \n",
      "\n",
      "   primary_cleaner.state.floatbank8_c_air  ...  \\\n",
      "0                             1400.102998  ...   \n",
      "1                             1396.151033  ...   \n",
      "2                             1398.075709  ...   \n",
      "3                             1400.129303  ...   \n",
      "4                             1402.172226  ...   \n",
      "\n",
      "   secondary_cleaner.state.floatbank4_a_air  \\\n",
      "0                                 12.023554   \n",
      "1                                 12.058140   \n",
      "2                                 11.962366   \n",
      "3                                 12.033091   \n",
      "4                                 12.025367   \n",
      "\n",
      "   secondary_cleaner.state.floatbank4_a_level  \\\n",
      "0                                 -497.795834   \n",
      "1                                 -498.695773   \n",
      "2                                 -498.767484   \n",
      "3                                 -498.350935   \n",
      "4                                 -500.786497   \n",
      "\n",
      "   secondary_cleaner.state.floatbank4_b_air  \\\n",
      "0                                  8.016656   \n",
      "1                                  8.130979   \n",
      "2                                  8.096893   \n",
      "3                                  8.074946   \n",
      "4                                  8.054678   \n",
      "\n",
      "   secondary_cleaner.state.floatbank4_b_level  \\\n",
      "0                                 -501.289139   \n",
      "1                                 -499.634209   \n",
      "2                                 -500.827423   \n",
      "3                                 -499.474407   \n",
      "4                                 -500.397500   \n",
      "\n",
      "   secondary_cleaner.state.floatbank5_a_air  \\\n",
      "0                                  7.946562   \n",
      "1                                  7.958270   \n",
      "2                                  8.071056   \n",
      "3                                  7.897085   \n",
      "4                                  8.107890   \n",
      "\n",
      "   secondary_cleaner.state.floatbank5_a_level  \\\n",
      "0                                 -432.317850   \n",
      "1                                 -525.839648   \n",
      "2                                 -500.801673   \n",
      "3                                 -500.868509   \n",
      "4                                 -509.526725   \n",
      "\n",
      "   secondary_cleaner.state.floatbank5_b_air  \\\n",
      "0                                  4.872511   \n",
      "1                                  4.878850   \n",
      "2                                  4.905125   \n",
      "3                                  4.931400   \n",
      "4                                  4.957674   \n",
      "\n",
      "   secondary_cleaner.state.floatbank5_b_level  \\\n",
      "0                                 -500.037437   \n",
      "1                                 -500.162375   \n",
      "2                                 -499.828510   \n",
      "3                                 -499.963623   \n",
      "4                                 -500.360026   \n",
      "\n",
      "   secondary_cleaner.state.floatbank6_a_air  \\\n",
      "0                                 26.705889   \n",
      "1                                 25.019940   \n",
      "2                                 24.994862   \n",
      "3                                 24.948919   \n",
      "4                                 25.003331   \n",
      "\n",
      "   secondary_cleaner.state.floatbank6_a_level  \n",
      "0                                 -499.709414  \n",
      "1                                 -499.819438  \n",
      "2                                 -500.622559  \n",
      "3                                 -498.709987  \n",
      "4                                 -500.856333  \n",
      "\n",
      "[5 rows x 53 columns]\n",
      "date                                            0\n",
      "primary_cleaner.input.sulfate                 302\n",
      "primary_cleaner.input.depressant              284\n",
      "primary_cleaner.input.feed_size                 0\n",
      "primary_cleaner.input.xanthate                166\n",
      "primary_cleaner.state.floatbank8_a_air         16\n",
      "primary_cleaner.state.floatbank8_a_level       16\n",
      "primary_cleaner.state.floatbank8_b_air         16\n",
      "primary_cleaner.state.floatbank8_b_level       16\n",
      "primary_cleaner.state.floatbank8_c_air         16\n",
      "primary_cleaner.state.floatbank8_c_level       16\n",
      "primary_cleaner.state.floatbank8_d_air         16\n",
      "primary_cleaner.state.floatbank8_d_level       16\n",
      "rougher.input.feed_ag                          16\n",
      "rougher.input.feed_pb                          16\n",
      "rougher.input.feed_rate                        40\n",
      "rougher.input.feed_size                        22\n",
      "rougher.input.feed_sol                         67\n",
      "rougher.input.feed_au                          16\n",
      "rougher.input.floatbank10_sulfate             257\n",
      "rougher.input.floatbank10_xanthate            123\n",
      "rougher.input.floatbank11_sulfate              55\n",
      "rougher.input.floatbank11_xanthate            353\n",
      "rougher.state.floatbank10_a_air                17\n",
      "rougher.state.floatbank10_a_level              16\n",
      "rougher.state.floatbank10_b_air                17\n",
      "rougher.state.floatbank10_b_level              16\n",
      "rougher.state.floatbank10_c_air                17\n",
      "rougher.state.floatbank10_c_level              16\n",
      "rougher.state.floatbank10_d_air                17\n",
      "rougher.state.floatbank10_d_level              16\n",
      "rougher.state.floatbank10_e_air                17\n",
      "rougher.state.floatbank10_e_level              16\n",
      "rougher.state.floatbank10_f_air                17\n",
      "rougher.state.floatbank10_f_level              16\n",
      "secondary_cleaner.state.floatbank2_a_air       20\n",
      "secondary_cleaner.state.floatbank2_a_level     16\n",
      "secondary_cleaner.state.floatbank2_b_air       23\n",
      "secondary_cleaner.state.floatbank2_b_level     16\n",
      "secondary_cleaner.state.floatbank3_a_air       34\n",
      "secondary_cleaner.state.floatbank3_a_level     16\n",
      "secondary_cleaner.state.floatbank3_b_air       16\n",
      "secondary_cleaner.state.floatbank3_b_level     16\n",
      "secondary_cleaner.state.floatbank4_a_air       16\n",
      "secondary_cleaner.state.floatbank4_a_level     16\n",
      "secondary_cleaner.state.floatbank4_b_air       16\n",
      "secondary_cleaner.state.floatbank4_b_level     16\n",
      "secondary_cleaner.state.floatbank5_a_air       16\n",
      "secondary_cleaner.state.floatbank5_a_level     16\n",
      "secondary_cleaner.state.floatbank5_b_air       16\n",
      "secondary_cleaner.state.floatbank5_b_level     16\n",
      "secondary_cleaner.state.floatbank6_a_air       16\n",
      "secondary_cleaner.state.floatbank6_a_level     16\n",
      "dtype: int64\n",
      "<class 'pandas.core.frame.DataFrame'>\n",
      "RangeIndex: 5856 entries, 0 to 5855\n",
      "Data columns (total 53 columns):\n",
      " #   Column                                      Non-Null Count  Dtype  \n",
      "---  ------                                      --------------  -----  \n",
      " 0   date                                        5856 non-null   object \n",
      " 1   primary_cleaner.input.sulfate               5554 non-null   float64\n",
      " 2   primary_cleaner.input.depressant            5572 non-null   float64\n",
      " 3   primary_cleaner.input.feed_size             5856 non-null   float64\n",
      " 4   primary_cleaner.input.xanthate              5690 non-null   float64\n",
      " 5   primary_cleaner.state.floatbank8_a_air      5840 non-null   float64\n",
      " 6   primary_cleaner.state.floatbank8_a_level    5840 non-null   float64\n",
      " 7   primary_cleaner.state.floatbank8_b_air      5840 non-null   float64\n",
      " 8   primary_cleaner.state.floatbank8_b_level    5840 non-null   float64\n",
      " 9   primary_cleaner.state.floatbank8_c_air      5840 non-null   float64\n",
      " 10  primary_cleaner.state.floatbank8_c_level    5840 non-null   float64\n",
      " 11  primary_cleaner.state.floatbank8_d_air      5840 non-null   float64\n",
      " 12  primary_cleaner.state.floatbank8_d_level    5840 non-null   float64\n",
      " 13  rougher.input.feed_ag                       5840 non-null   float64\n",
      " 14  rougher.input.feed_pb                       5840 non-null   float64\n",
      " 15  rougher.input.feed_rate                     5816 non-null   float64\n",
      " 16  rougher.input.feed_size                     5834 non-null   float64\n",
      " 17  rougher.input.feed_sol                      5789 non-null   float64\n",
      " 18  rougher.input.feed_au                       5840 non-null   float64\n",
      " 19  rougher.input.floatbank10_sulfate           5599 non-null   float64\n",
      " 20  rougher.input.floatbank10_xanthate          5733 non-null   float64\n",
      " 21  rougher.input.floatbank11_sulfate           5801 non-null   float64\n",
      " 22  rougher.input.floatbank11_xanthate          5503 non-null   float64\n",
      " 23  rougher.state.floatbank10_a_air             5839 non-null   float64\n",
      " 24  rougher.state.floatbank10_a_level           5840 non-null   float64\n",
      " 25  rougher.state.floatbank10_b_air             5839 non-null   float64\n",
      " 26  rougher.state.floatbank10_b_level           5840 non-null   float64\n",
      " 27  rougher.state.floatbank10_c_air             5839 non-null   float64\n",
      " 28  rougher.state.floatbank10_c_level           5840 non-null   float64\n",
      " 29  rougher.state.floatbank10_d_air             5839 non-null   float64\n",
      " 30  rougher.state.floatbank10_d_level           5840 non-null   float64\n",
      " 31  rougher.state.floatbank10_e_air             5839 non-null   float64\n",
      " 32  rougher.state.floatbank10_e_level           5840 non-null   float64\n",
      " 33  rougher.state.floatbank10_f_air             5839 non-null   float64\n",
      " 34  rougher.state.floatbank10_f_level           5840 non-null   float64\n",
      " 35  secondary_cleaner.state.floatbank2_a_air    5836 non-null   float64\n",
      " 36  secondary_cleaner.state.floatbank2_a_level  5840 non-null   float64\n",
      " 37  secondary_cleaner.state.floatbank2_b_air    5833 non-null   float64\n",
      " 38  secondary_cleaner.state.floatbank2_b_level  5840 non-null   float64\n",
      " 39  secondary_cleaner.state.floatbank3_a_air    5822 non-null   float64\n",
      " 40  secondary_cleaner.state.floatbank3_a_level  5840 non-null   float64\n",
      " 41  secondary_cleaner.state.floatbank3_b_air    5840 non-null   float64\n",
      " 42  secondary_cleaner.state.floatbank3_b_level  5840 non-null   float64\n",
      " 43  secondary_cleaner.state.floatbank4_a_air    5840 non-null   float64\n",
      " 44  secondary_cleaner.state.floatbank4_a_level  5840 non-null   float64\n",
      " 45  secondary_cleaner.state.floatbank4_b_air    5840 non-null   float64\n",
      " 46  secondary_cleaner.state.floatbank4_b_level  5840 non-null   float64\n",
      " 47  secondary_cleaner.state.floatbank5_a_air    5840 non-null   float64\n",
      " 48  secondary_cleaner.state.floatbank5_a_level  5840 non-null   float64\n",
      " 49  secondary_cleaner.state.floatbank5_b_air    5840 non-null   float64\n",
      " 50  secondary_cleaner.state.floatbank5_b_level  5840 non-null   float64\n",
      " 51  secondary_cleaner.state.floatbank6_a_air    5840 non-null   float64\n",
      " 52  secondary_cleaner.state.floatbank6_a_level  5840 non-null   float64\n",
      "dtypes: float64(52), object(1)\n",
      "memory usage: 2.4+ MB\n",
      "None\n",
      "       primary_cleaner.input.sulfate  primary_cleaner.input.depressant  \\\n",
      "count                    5554.000000                       5572.000000   \n",
      "mean                      170.515243                          8.482873   \n",
      "std                        49.608602                          3.353105   \n",
      "min                         0.000103                          0.000031   \n",
      "25%                       143.340022                          6.411500   \n",
      "50%                       176.103893                          8.023252   \n",
      "75%                       207.240761                         10.017725   \n",
      "max                       274.409626                         40.024582   \n",
      "\n",
      "       primary_cleaner.input.feed_size  primary_cleaner.input.xanthate  \\\n",
      "count                      5856.000000                     5690.000000   \n",
      "mean                          7.264651                        1.321420   \n",
      "std                           0.611526                        0.693246   \n",
      "min                           5.650000                        0.000003   \n",
      "25%                           6.885625                        0.888769   \n",
      "50%                           7.259333                        1.183362   \n",
      "75%                           7.650000                        1.763797   \n",
      "max                          15.500000                        5.433169   \n",
      "\n",
      "       primary_cleaner.state.floatbank8_a_air  \\\n",
      "count                             5840.000000   \n",
      "mean                              1481.990241   \n",
      "std                                310.453166   \n",
      "min                                  0.000000   \n",
      "25%                               1497.190681   \n",
      "50%                               1554.659783   \n",
      "75%                               1601.681656   \n",
      "max                               2212.432090   \n",
      "\n",
      "       primary_cleaner.state.floatbank8_a_level  \\\n",
      "count                               5840.000000   \n",
      "mean                                -509.057796   \n",
      "std                                   61.339256   \n",
      "min                                 -799.773788   \n",
      "25%                                 -500.455211   \n",
      "50%                                 -499.997402   \n",
      "75%                                 -499.575313   \n",
      "max                                  -57.195404   \n",
      "\n",
      "       primary_cleaner.state.floatbank8_b_air  \\\n",
      "count                             5840.000000   \n",
      "mean                              1486.908670   \n",
      "std                                313.224286   \n",
      "min                                  0.000000   \n",
      "25%                               1497.150234   \n",
      "50%                               1553.268084   \n",
      "75%                               1601.784707   \n",
      "max                               1975.147923   \n",
      "\n",
      "       primary_cleaner.state.floatbank8_b_level  \\\n",
      "count                               5840.000000   \n",
      "mean                                -511.743956   \n",
      "std                                   67.139074   \n",
      "min                                 -800.029078   \n",
      "25%                                 -500.936639   \n",
      "50%                                 -500.066588   \n",
      "75%                                 -499.323361   \n",
      "max                                 -142.527229   \n",
      "\n",
      "       primary_cleaner.state.floatbank8_c_air  \\\n",
      "count                             5840.000000   \n",
      "mean                              1468.495216   \n",
      "std                                309.980748   \n",
      "min                                  0.000000   \n",
      "25%                               1437.050321   \n",
      "50%                               1546.160672   \n",
      "75%                               1600.785573   \n",
      "max                               1715.053773   \n",
      "\n",
      "       primary_cleaner.state.floatbank8_c_level  ...  \\\n",
      "count                               5840.000000  ...   \n",
      "mean                                -509.741212  ...   \n",
      "std                                   62.671873  ...   \n",
      "min                                 -799.995127  ...   \n",
      "25%                                 -501.300441  ...   \n",
      "50%                                 -500.079537  ...   \n",
      "75%                                 -499.009545  ...   \n",
      "max                                 -150.937035  ...   \n",
      "\n",
      "       secondary_cleaner.state.floatbank4_a_air  \\\n",
      "count                               5840.000000   \n",
      "mean                                  15.636031   \n",
      "std                                    4.660835   \n",
      "min                                    0.000000   \n",
      "25%                                   12.057838   \n",
      "50%                                   17.001867   \n",
      "75%                                   18.030985   \n",
      "max                                   30.051797   \n",
      "\n",
      "       secondary_cleaner.state.floatbank4_a_level  \\\n",
      "count                                 5840.000000   \n",
      "mean                                  -516.266074   \n",
      "std                                     62.756748   \n",
      "min                                   -799.798523   \n",
      "25%                                   -501.054741   \n",
      "50%                                   -500.160145   \n",
      "75%                                   -499.441529   \n",
      "max                                   -401.565212   \n",
      "\n",
      "       secondary_cleaner.state.floatbank4_b_air  \\\n",
      "count                               5840.000000   \n",
      "mean                                  13.145702   \n",
      "std                                    4.304086   \n",
      "min                                    0.000000   \n",
      "25%                                   11.880119   \n",
      "50%                                   14.952102   \n",
      "75%                                   15.940011   \n",
      "max                                   31.269706   \n",
      "\n",
      "       secondary_cleaner.state.floatbank4_b_level  \\\n",
      "count                                 5840.000000   \n",
      "mean                                  -476.338907   \n",
      "std                                    105.549424   \n",
      "min                                   -800.836914   \n",
      "25%                                   -500.419113   \n",
      "50%                                   -499.644328   \n",
      "75%                                   -401.523664   \n",
      "max                                     -6.506986   \n",
      "\n",
      "       secondary_cleaner.state.floatbank5_a_air  \\\n",
      "count                               5840.000000   \n",
      "mean                                  12.308967   \n",
      "std                                    3.762827   \n",
      "min                                   -0.223393   \n",
      "25%                                   10.123459   \n",
      "50%                                   12.062877   \n",
      "75%                                   15.017881   \n",
      "max                                   25.258848   \n",
      "\n",
      "       secondary_cleaner.state.floatbank5_a_level  \\\n",
      "count                                 5840.000000   \n",
      "mean                                  -512.208126   \n",
      "std                                     58.864651   \n",
      "min                                   -799.661076   \n",
      "25%                                   -500.879383   \n",
      "50%                                   -500.047621   \n",
      "75%                                   -499.297033   \n",
      "max                                   -244.483566   \n",
      "\n",
      "       secondary_cleaner.state.floatbank5_b_air  \\\n",
      "count                               5840.000000   \n",
      "mean                                   9.470986   \n",
      "std                                    3.312471   \n",
      "min                                    0.528083   \n",
      "25%                                    7.991208   \n",
      "50%                                    9.980774   \n",
      "75%                                   11.992176   \n",
      "max                                   14.090194   \n",
      "\n",
      "       secondary_cleaner.state.floatbank5_b_level  \\\n",
      "count                                 5840.000000   \n",
      "mean                                  -505.017827   \n",
      "std                                     68.785898   \n",
      "min                                   -800.220337   \n",
      "25%                                   -500.223089   \n",
      "50%                                   -500.001338   \n",
      "75%                                   -499.722835   \n",
      "max                                   -126.463446   \n",
      "\n",
      "       secondary_cleaner.state.floatbank6_a_air  \\\n",
      "count                               5840.000000   \n",
      "mean                                  16.678722   \n",
      "std                                    5.404514   \n",
      "min                                   -0.079426   \n",
      "25%                                   13.012422   \n",
      "50%                                   16.007242   \n",
      "75%                                   21.009076   \n",
      "max                                   26.705889   \n",
      "\n",
      "       secondary_cleaner.state.floatbank6_a_level  \n",
      "count                                 5840.000000  \n",
      "mean                                  -512.351694  \n",
      "std                                     69.919839  \n",
      "min                                   -809.859706  \n",
      "25%                                   -500.833821  \n",
      "50%                                   -500.041085  \n",
      "75%                                   -499.395621  \n",
      "max                                    -29.093593  \n",
      "\n",
      "[8 rows x 52 columns]\n"
     ]
    }
   ],
   "source": [
    "read_data(testing)"
   ]
  },
  {
   "cell_type": "code",
   "execution_count": 126,
   "metadata": {},
   "outputs": [
    {
     "name": "stdout",
     "output_type": "stream",
     "text": [
      "                  date  final.output.concentrate_ag  \\\n",
      "0  2016-01-15 00:00:00                     6.055403   \n",
      "1  2016-01-15 01:00:00                     6.029369   \n",
      "2  2016-01-15 02:00:00                     6.055926   \n",
      "3  2016-01-15 03:00:00                     6.047977   \n",
      "4  2016-01-15 04:00:00                     6.148599   \n",
      "\n",
      "   final.output.concentrate_pb  final.output.concentrate_sol  \\\n",
      "0                     9.889648                      5.507324   \n",
      "1                     9.968944                      5.257781   \n",
      "2                    10.213995                      5.383759   \n",
      "3                     9.977019                      4.858634   \n",
      "4                    10.142511                      4.939416   \n",
      "\n",
      "   final.output.concentrate_au  final.output.recovery  final.output.tail_ag  \\\n",
      "0                    42.192020              70.541216             10.411962   \n",
      "1                    42.701629              69.266198             10.462676   \n",
      "2                    42.657501              68.116445             10.507046   \n",
      "3                    42.689819              68.347543             10.422762   \n",
      "4                    42.774141              66.927016             10.360302   \n",
      "\n",
      "   final.output.tail_pb  final.output.tail_sol  final.output.tail_au  ...  \\\n",
      "0              0.895447              16.904297              2.143149  ...   \n",
      "1              0.927452              16.634514              2.224930  ...   \n",
      "2              0.953716              16.208849              2.257889  ...   \n",
      "3              0.883763              16.532835              2.146849  ...   \n",
      "4              0.792826              16.525686              2.055292  ...   \n",
      "\n",
      "   secondary_cleaner.state.floatbank4_a_air  \\\n",
      "0                                 14.016835   \n",
      "1                                 13.992281   \n",
      "2                                 14.015015   \n",
      "3                                 14.036510   \n",
      "4                                 14.027298   \n",
      "\n",
      "   secondary_cleaner.state.floatbank4_a_level  \\\n",
      "0                                 -502.488007   \n",
      "1                                 -505.503262   \n",
      "2                                 -502.520901   \n",
      "3                                 -500.857308   \n",
      "4                                 -499.838632   \n",
      "\n",
      "   secondary_cleaner.state.floatbank4_b_air  \\\n",
      "0                                 12.099931   \n",
      "1                                 11.950531   \n",
      "2                                 11.912783   \n",
      "3                                 11.999550   \n",
      "4                                 11.953070   \n",
      "\n",
      "   secondary_cleaner.state.floatbank4_b_level  \\\n",
      "0                                 -504.715942   \n",
      "1                                 -501.331529   \n",
      "2                                 -501.133383   \n",
      "3                                 -501.193686   \n",
      "4                                 -501.053894   \n",
      "\n",
      "   secondary_cleaner.state.floatbank5_a_air  \\\n",
      "0                                  9.925633   \n",
      "1                                 10.039245   \n",
      "2                                 10.070913   \n",
      "3                                  9.970366   \n",
      "4                                  9.925709   \n",
      "\n",
      "   secondary_cleaner.state.floatbank5_a_level  \\\n",
      "0                                 -498.310211   \n",
      "1                                 -500.169983   \n",
      "2                                 -500.129135   \n",
      "3                                 -499.201640   \n",
      "4                                 -501.686727   \n",
      "\n",
      "   secondary_cleaner.state.floatbank5_b_air  \\\n",
      "0                                  8.079666   \n",
      "1                                  7.984757   \n",
      "2                                  8.013877   \n",
      "3                                  7.977324   \n",
      "4                                  7.894242   \n",
      "\n",
      "   secondary_cleaner.state.floatbank5_b_level  \\\n",
      "0                                 -500.470978   \n",
      "1                                 -500.582168   \n",
      "2                                 -500.517572   \n",
      "3                                 -500.255908   \n",
      "4                                 -500.356035   \n",
      "\n",
      "   secondary_cleaner.state.floatbank6_a_air  \\\n",
      "0                                 14.151341   \n",
      "1                                 13.998353   \n",
      "2                                 14.028663   \n",
      "3                                 14.005551   \n",
      "4                                 13.996647   \n",
      "\n",
      "   secondary_cleaner.state.floatbank6_a_level  \n",
      "0                                 -605.841980  \n",
      "1                                 -599.787184  \n",
      "2                                 -601.427363  \n",
      "3                                 -599.996129  \n",
      "4                                 -601.496691  \n",
      "\n",
      "[5 rows x 87 columns]\n",
      "date                                            0\n",
      "final.output.concentrate_ag                    89\n",
      "final.output.concentrate_pb                    87\n",
      "final.output.concentrate_sol                  385\n",
      "final.output.concentrate_au                    86\n",
      "                                             ... \n",
      "secondary_cleaner.state.floatbank5_a_level    101\n",
      "secondary_cleaner.state.floatbank5_b_air      101\n",
      "secondary_cleaner.state.floatbank5_b_level    100\n",
      "secondary_cleaner.state.floatbank6_a_air      119\n",
      "secondary_cleaner.state.floatbank6_a_level    101\n",
      "Length: 87, dtype: int64\n",
      "<class 'pandas.core.frame.DataFrame'>\n",
      "RangeIndex: 22716 entries, 0 to 22715\n",
      "Data columns (total 87 columns):\n",
      " #   Column                                              Non-Null Count  Dtype  \n",
      "---  ------                                              --------------  -----  \n",
      " 0   date                                                22716 non-null  object \n",
      " 1   final.output.concentrate_ag                         22627 non-null  float64\n",
      " 2   final.output.concentrate_pb                         22629 non-null  float64\n",
      " 3   final.output.concentrate_sol                        22331 non-null  float64\n",
      " 4   final.output.concentrate_au                         22630 non-null  float64\n",
      " 5   final.output.recovery                               20753 non-null  float64\n",
      " 6   final.output.tail_ag                                22633 non-null  float64\n",
      " 7   final.output.tail_pb                                22516 non-null  float64\n",
      " 8   final.output.tail_sol                               22445 non-null  float64\n",
      " 9   final.output.tail_au                                22635 non-null  float64\n",
      " 10  primary_cleaner.input.sulfate                       21107 non-null  float64\n",
      " 11  primary_cleaner.input.depressant                    21170 non-null  float64\n",
      " 12  primary_cleaner.input.feed_size                     22716 non-null  float64\n",
      " 13  primary_cleaner.input.xanthate                      21565 non-null  float64\n",
      " 14  primary_cleaner.output.concentrate_ag               22618 non-null  float64\n",
      " 15  primary_cleaner.output.concentrate_pb               22268 non-null  float64\n",
      " 16  primary_cleaner.output.concentrate_sol              21918 non-null  float64\n",
      " 17  primary_cleaner.output.concentrate_au               22618 non-null  float64\n",
      " 18  primary_cleaner.output.tail_ag                      22614 non-null  float64\n",
      " 19  primary_cleaner.output.tail_pb                      22594 non-null  float64\n",
      " 20  primary_cleaner.output.tail_sol                     22365 non-null  float64\n",
      " 21  primary_cleaner.output.tail_au                      22617 non-null  float64\n",
      " 22  primary_cleaner.state.floatbank8_a_air              22660 non-null  float64\n",
      " 23  primary_cleaner.state.floatbank8_a_level            22667 non-null  float64\n",
      " 24  primary_cleaner.state.floatbank8_b_air              22660 non-null  float64\n",
      " 25  primary_cleaner.state.floatbank8_b_level            22673 non-null  float64\n",
      " 26  primary_cleaner.state.floatbank8_c_air              22662 non-null  float64\n",
      " 27  primary_cleaner.state.floatbank8_c_level            22673 non-null  float64\n",
      " 28  primary_cleaner.state.floatbank8_d_air              22661 non-null  float64\n",
      " 29  primary_cleaner.state.floatbank8_d_level            22673 non-null  float64\n",
      " 30  rougher.calculation.sulfate_to_au_concentrate       22672 non-null  float64\n",
      " 31  rougher.calculation.floatbank10_sulfate_to_au_feed  22672 non-null  float64\n",
      " 32  rougher.calculation.floatbank11_sulfate_to_au_feed  22672 non-null  float64\n",
      " 33  rougher.calculation.au_pb_ratio                     21089 non-null  float64\n",
      " 34  rougher.input.feed_ag                               22618 non-null  float64\n",
      " 35  rougher.input.feed_pb                               22472 non-null  float64\n",
      " 36  rougher.input.feed_rate                             22163 non-null  float64\n",
      " 37  rougher.input.feed_size                             22277 non-null  float64\n",
      " 38  rougher.input.feed_sol                              22357 non-null  float64\n",
      " 39  rougher.input.feed_au                               22617 non-null  float64\n",
      " 40  rougher.input.floatbank10_sulfate                   21415 non-null  float64\n",
      " 41  rougher.input.floatbank10_xanthate                  22247 non-null  float64\n",
      " 42  rougher.input.floatbank11_sulfate                   22038 non-null  float64\n",
      " 43  rougher.input.floatbank11_xanthate                  20459 non-null  float64\n",
      " 44  rougher.output.concentrate_ag                       22618 non-null  float64\n",
      " 45  rougher.output.concentrate_pb                       22618 non-null  float64\n",
      " 46  rougher.output.concentrate_sol                      22526 non-null  float64\n",
      " 47  rougher.output.concentrate_au                       22618 non-null  float64\n",
      " 48  rougher.output.recovery                             19597 non-null  float64\n",
      " 49  rougher.output.tail_ag                              19979 non-null  float64\n",
      " 50  rougher.output.tail_pb                              22618 non-null  float64\n",
      " 51  rougher.output.tail_sol                             19980 non-null  float64\n",
      " 52  rougher.output.tail_au                              19980 non-null  float64\n",
      " 53  rougher.state.floatbank10_a_air                     22646 non-null  float64\n",
      " 54  rougher.state.floatbank10_a_level                   22647 non-null  float64\n",
      " 55  rougher.state.floatbank10_b_air                     22646 non-null  float64\n",
      " 56  rougher.state.floatbank10_b_level                   22647 non-null  float64\n",
      " 57  rougher.state.floatbank10_c_air                     22646 non-null  float64\n",
      " 58  rougher.state.floatbank10_c_level                   22654 non-null  float64\n",
      " 59  rougher.state.floatbank10_d_air                     22641 non-null  float64\n",
      " 60  rougher.state.floatbank10_d_level                   22649 non-null  float64\n",
      " 61  rougher.state.floatbank10_e_air                     22096 non-null  float64\n",
      " 62  rougher.state.floatbank10_e_level                   22649 non-null  float64\n",
      " 63  rougher.state.floatbank10_f_air                     22641 non-null  float64\n",
      " 64  rougher.state.floatbank10_f_level                   22642 non-null  float64\n",
      " 65  secondary_cleaner.output.tail_ag                    22616 non-null  float64\n",
      " 66  secondary_cleaner.output.tail_pb                    22600 non-null  float64\n",
      " 67  secondary_cleaner.output.tail_sol                   20501 non-null  float64\n",
      " 68  secondary_cleaner.output.tail_au                    22618 non-null  float64\n",
      " 69  secondary_cleaner.state.floatbank2_a_air            22333 non-null  float64\n",
      " 70  secondary_cleaner.state.floatbank2_a_level          22591 non-null  float64\n",
      " 71  secondary_cleaner.state.floatbank2_b_air            22538 non-null  float64\n",
      " 72  secondary_cleaner.state.floatbank2_b_level          22588 non-null  float64\n",
      " 73  secondary_cleaner.state.floatbank3_a_air            22585 non-null  float64\n",
      " 74  secondary_cleaner.state.floatbank3_a_level          22587 non-null  float64\n",
      " 75  secondary_cleaner.state.floatbank3_b_air            22592 non-null  float64\n",
      " 76  secondary_cleaner.state.floatbank3_b_level          22590 non-null  float64\n",
      " 77  secondary_cleaner.state.floatbank4_a_air            22571 non-null  float64\n",
      " 78  secondary_cleaner.state.floatbank4_a_level          22587 non-null  float64\n",
      " 79  secondary_cleaner.state.floatbank4_b_air            22608 non-null  float64\n",
      " 80  secondary_cleaner.state.floatbank4_b_level          22607 non-null  float64\n",
      " 81  secondary_cleaner.state.floatbank5_a_air            22615 non-null  float64\n",
      " 82  secondary_cleaner.state.floatbank5_a_level          22615 non-null  float64\n",
      " 83  secondary_cleaner.state.floatbank5_b_air            22615 non-null  float64\n",
      " 84  secondary_cleaner.state.floatbank5_b_level          22616 non-null  float64\n",
      " 85  secondary_cleaner.state.floatbank6_a_air            22597 non-null  float64\n",
      " 86  secondary_cleaner.state.floatbank6_a_level          22615 non-null  float64\n",
      "dtypes: float64(86), object(1)\n",
      "memory usage: 15.1+ MB\n",
      "None\n"
     ]
    },
    {
     "name": "stdout",
     "output_type": "stream",
     "text": [
      "       final.output.concentrate_ag  final.output.concentrate_pb  \\\n",
      "count                 22627.000000                 22629.000000   \n",
      "mean                      4.781559                     9.095308   \n",
      "std                       2.030128                     3.230797   \n",
      "min                       0.000000                     0.000000   \n",
      "25%                       4.018525                     8.750171   \n",
      "50%                       4.953729                     9.914519   \n",
      "75%                       5.862593                    10.929839   \n",
      "max                      16.001945                    17.031899   \n",
      "\n",
      "       final.output.concentrate_sol  final.output.concentrate_au  \\\n",
      "count                  22331.000000                 22630.000000   \n",
      "mean                       8.640317                    40.001172   \n",
      "std                        3.785035                    13.398062   \n",
      "min                        0.000000                     0.000000   \n",
      "25%                        7.116799                    42.383721   \n",
      "50%                        8.908792                    44.653436   \n",
      "75%                       10.705824                    46.111999   \n",
      "max                       19.615720                    53.611374   \n",
      "\n",
      "       final.output.recovery  final.output.tail_ag  final.output.tail_pb  \\\n",
      "count           20753.000000          22633.000000          22516.000000   \n",
      "mean               67.447488              8.923690              2.488252   \n",
      "std                11.616034              3.517917              1.189407   \n",
      "min                 0.000000              0.000000              0.000000   \n",
      "25%                63.282393              7.684016              1.805376   \n",
      "50%                68.322258              9.484369              2.653001   \n",
      "75%                72.950836             11.084557              3.287790   \n",
      "max               100.000000             19.552149              6.086532   \n",
      "\n",
      "       final.output.tail_sol  final.output.tail_au  \\\n",
      "count           22445.000000          22635.000000   \n",
      "mean                9.523632              2.827459   \n",
      "std                 4.079739              1.262834   \n",
      "min                 0.000000              0.000000   \n",
      "25%                 8.143576              2.303108   \n",
      "50%                10.212998              2.913794   \n",
      "75%                11.860824              3.555077   \n",
      "max                22.861749              9.789625   \n",
      "\n",
      "       primary_cleaner.input.sulfate  ...  \\\n",
      "count                   21107.000000  ...   \n",
      "mean                      140.277672  ...   \n",
      "std                        49.919004  ...   \n",
      "min                         0.000003  ...   \n",
      "25%                       110.177081  ...   \n",
      "50%                       141.330501  ...   \n",
      "75%                       174.049914  ...   \n",
      "max                       274.409626  ...   \n",
      "\n",
      "       secondary_cleaner.state.floatbank4_a_air  \\\n",
      "count                              22571.000000   \n",
      "mean                                  18.205125   \n",
      "std                                    6.560700   \n",
      "min                                    0.000000   \n",
      "25%                                   14.095940   \n",
      "50%                                   18.007326   \n",
      "75%                                   22.998194   \n",
      "max                                   60.000000   \n",
      "\n",
      "       secondary_cleaner.state.floatbank4_a_level  \\\n",
      "count                                22587.000000   \n",
      "mean                                  -499.878977   \n",
      "std                                     80.273964   \n",
      "min                                   -799.920713   \n",
      "25%                                   -500.896232   \n",
      "50%                                   -499.917108   \n",
      "75%                                   -498.361545   \n",
      "max                                   -127.692333   \n",
      "\n",
      "       secondary_cleaner.state.floatbank4_b_air  \\\n",
      "count                              22608.000000   \n",
      "mean                                  14.356474   \n",
      "std                                    5.655791   \n",
      "min                                    0.000000   \n",
      "25%                                   10.882675   \n",
      "50%                                   14.947646   \n",
      "75%                                   17.977502   \n",
      "max                                   31.269706   \n",
      "\n",
      "       secondary_cleaner.state.floatbank4_b_level  \\\n",
      "count                                22607.000000   \n",
      "mean                                  -476.532613   \n",
      "std                                     93.822791   \n",
      "min                                   -800.836914   \n",
      "25%                                   -500.309169   \n",
      "50%                                   -499.612292   \n",
      "75%                                   -400.224147   \n",
      "max                                     -6.506986   \n",
      "\n",
      "       secondary_cleaner.state.floatbank5_a_air  \\\n",
      "count                              22615.000000   \n",
      "mean                                  14.883276   \n",
      "std                                    6.372811   \n",
      "min                                   -0.423260   \n",
      "25%                                   10.941299   \n",
      "50%                                   14.859117   \n",
      "75%                                   18.014914   \n",
      "max                                   63.116298   \n",
      "\n",
      "       secondary_cleaner.state.floatbank5_a_level  \\\n",
      "count                                22615.000000   \n",
      "mean                                  -503.323288   \n",
      "std                                     72.925589   \n",
      "min                                   -799.741097   \n",
      "25%                                   -500.628697   \n",
      "50%                                   -499.865158   \n",
      "75%                                   -498.489381   \n",
      "max                                   -244.483566   \n",
      "\n",
      "       secondary_cleaner.state.floatbank5_b_air  \\\n",
      "count                              22615.000000   \n",
      "mean                                  11.626743   \n",
      "std                                    5.757449   \n",
      "min                                    0.427084   \n",
      "25%                                    8.037533   \n",
      "50%                                   10.989756   \n",
      "75%                                   14.001193   \n",
      "max                                   39.846228   \n",
      "\n",
      "       secondary_cleaner.state.floatbank5_b_level  \\\n",
      "count                                22616.000000   \n",
      "mean                                  -500.521502   \n",
      "std                                     78.956292   \n",
      "min                                   -800.258209   \n",
      "25%                                   -500.167897   \n",
      "50%                                   -499.951980   \n",
      "75%                                   -499.492354   \n",
      "max                                   -120.190931   \n",
      "\n",
      "       secondary_cleaner.state.floatbank6_a_air  \\\n",
      "count                              22597.000000   \n",
      "mean                                  17.976810   \n",
      "std                                    6.636203   \n",
      "min                                   -0.079426   \n",
      "25%                                   13.968418   \n",
      "50%                                   18.004215   \n",
      "75%                                   23.009704   \n",
      "max                                   54.876806   \n",
      "\n",
      "       secondary_cleaner.state.floatbank6_a_level  \n",
      "count                                22615.000000  \n",
      "mean                                  -519.361465  \n",
      "std                                     75.477151  \n",
      "min                                   -810.473526  \n",
      "25%                                   -500.981671  \n",
      "50%                                   -500.095463  \n",
      "75%                                   -499.526388  \n",
      "max                                    -29.093593  \n",
      "\n",
      "[8 rows x 86 columns]\n"
     ]
    }
   ],
   "source": [
    "read_data(source)"
   ]
  },
  {
   "cell_type": "markdown",
   "metadata": {},
   "source": [
    "This is a huge dataset. There might be a lot of issues and null values existing in the dataset. Let's deal with them."
   ]
  },
  {
   "cell_type": "markdown",
   "metadata": {},
   "source": [
    "### Check that recovery is calculated correctly. Using the training set, calculate recovery for the rougher.output.recovery feature. Find the MAE between your calculations and the feature values. Provide findings."
   ]
  },
  {
   "cell_type": "code",
   "execution_count": 127,
   "metadata": {},
   "outputs": [
    {
     "name": "stdout",
     "output_type": "stream",
     "text": [
      "['rougher.calculation.sulfate_to_au_concentrate', 'rougher.calculation.floatbank10_sulfate_to_au_feed', 'rougher.calculation.floatbank11_sulfate_to_au_feed', 'rougher.calculation.au_pb_ratio', 'rougher.input.feed_ag', 'rougher.input.feed_pb', 'rougher.input.feed_rate', 'rougher.input.feed_size', 'rougher.input.feed_sol', 'rougher.input.feed_au', 'rougher.input.floatbank10_sulfate', 'rougher.input.floatbank10_xanthate', 'rougher.input.floatbank11_sulfate', 'rougher.input.floatbank11_xanthate', 'rougher.output.concentrate_ag', 'rougher.output.concentrate_pb', 'rougher.output.concentrate_sol', 'rougher.output.concentrate_au', 'rougher.output.recovery', 'rougher.output.tail_ag', 'rougher.output.tail_pb', 'rougher.output.tail_sol', 'rougher.output.tail_au', 'rougher.state.floatbank10_a_air', 'rougher.state.floatbank10_a_level', 'rougher.state.floatbank10_b_air', 'rougher.state.floatbank10_b_level', 'rougher.state.floatbank10_c_air', 'rougher.state.floatbank10_c_level', 'rougher.state.floatbank10_d_air', 'rougher.state.floatbank10_d_level', 'rougher.state.floatbank10_e_air', 'rougher.state.floatbank10_e_level', 'rougher.state.floatbank10_f_air', 'rougher.state.floatbank10_f_level']\n"
     ]
    },
    {
     "data": {
      "text/html": [
       "<div>\n",
       "<style scoped>\n",
       "    .dataframe tbody tr th:only-of-type {\n",
       "        vertical-align: middle;\n",
       "    }\n",
       "\n",
       "    .dataframe tbody tr th {\n",
       "        vertical-align: top;\n",
       "    }\n",
       "\n",
       "    .dataframe thead th {\n",
       "        text-align: right;\n",
       "    }\n",
       "</style>\n",
       "<table border=\"1\" class=\"dataframe\">\n",
       "  <thead>\n",
       "    <tr style=\"text-align: right;\">\n",
       "      <th></th>\n",
       "      <th>rougher.calculation.sulfate_to_au_concentrate</th>\n",
       "      <th>rougher.calculation.floatbank10_sulfate_to_au_feed</th>\n",
       "      <th>rougher.calculation.floatbank11_sulfate_to_au_feed</th>\n",
       "      <th>rougher.calculation.au_pb_ratio</th>\n",
       "      <th>rougher.input.feed_ag</th>\n",
       "      <th>rougher.input.feed_pb</th>\n",
       "      <th>rougher.input.feed_rate</th>\n",
       "      <th>rougher.input.feed_size</th>\n",
       "      <th>rougher.input.feed_sol</th>\n",
       "      <th>rougher.input.feed_au</th>\n",
       "      <th>...</th>\n",
       "      <th>rougher.state.floatbank10_b_air</th>\n",
       "      <th>rougher.state.floatbank10_b_level</th>\n",
       "      <th>rougher.state.floatbank10_c_air</th>\n",
       "      <th>rougher.state.floatbank10_c_level</th>\n",
       "      <th>rougher.state.floatbank10_d_air</th>\n",
       "      <th>rougher.state.floatbank10_d_level</th>\n",
       "      <th>rougher.state.floatbank10_e_air</th>\n",
       "      <th>rougher.state.floatbank10_e_level</th>\n",
       "      <th>rougher.state.floatbank10_f_air</th>\n",
       "      <th>rougher.state.floatbank10_f_level</th>\n",
       "    </tr>\n",
       "  </thead>\n",
       "  <tbody>\n",
       "    <tr>\n",
       "      <th>0</th>\n",
       "      <td>41885.707031</td>\n",
       "      <td>3481.779053</td>\n",
       "      <td>3520.337158</td>\n",
       "      <td>2.838687</td>\n",
       "      <td>6.100378</td>\n",
       "      <td>2.284912</td>\n",
       "      <td>523.546326</td>\n",
       "      <td>55.486599</td>\n",
       "      <td>36.808594</td>\n",
       "      <td>6.486150</td>\n",
       "      <td>...</td>\n",
       "      <td>1603.011353</td>\n",
       "      <td>-434.715027</td>\n",
       "      <td>1602.375000</td>\n",
       "      <td>-442.204468</td>\n",
       "      <td>1598.937256</td>\n",
       "      <td>-451.294128</td>\n",
       "      <td>1404.472046</td>\n",
       "      <td>-455.462982</td>\n",
       "      <td>1416.354980</td>\n",
       "      <td>-451.939636</td>\n",
       "    </tr>\n",
       "    <tr>\n",
       "      <th>1</th>\n",
       "      <td>42050.861809</td>\n",
       "      <td>3498.370979</td>\n",
       "      <td>3489.981857</td>\n",
       "      <td>2.858998</td>\n",
       "      <td>6.161113</td>\n",
       "      <td>2.266033</td>\n",
       "      <td>525.290581</td>\n",
       "      <td>57.278666</td>\n",
       "      <td>35.753385</td>\n",
       "      <td>6.478583</td>\n",
       "      <td>...</td>\n",
       "      <td>1600.754587</td>\n",
       "      <td>-449.953435</td>\n",
       "      <td>1600.479580</td>\n",
       "      <td>-449.830646</td>\n",
       "      <td>1600.527589</td>\n",
       "      <td>-449.953649</td>\n",
       "      <td>1399.227084</td>\n",
       "      <td>-450.869848</td>\n",
       "      <td>1399.719514</td>\n",
       "      <td>-450.119001</td>\n",
       "    </tr>\n",
       "    <tr>\n",
       "      <th>2</th>\n",
       "      <td>42018.101184</td>\n",
       "      <td>3495.348910</td>\n",
       "      <td>3502.359819</td>\n",
       "      <td>2.945989</td>\n",
       "      <td>6.116455</td>\n",
       "      <td>2.159622</td>\n",
       "      <td>530.026610</td>\n",
       "      <td>57.510649</td>\n",
       "      <td>35.971630</td>\n",
       "      <td>6.362222</td>\n",
       "      <td>...</td>\n",
       "      <td>1599.337330</td>\n",
       "      <td>-450.008530</td>\n",
       "      <td>1599.672797</td>\n",
       "      <td>-449.954491</td>\n",
       "      <td>1599.849325</td>\n",
       "      <td>-449.954185</td>\n",
       "      <td>1399.180945</td>\n",
       "      <td>-449.937588</td>\n",
       "      <td>1400.316682</td>\n",
       "      <td>-450.527147</td>\n",
       "    </tr>\n",
       "    <tr>\n",
       "      <th>3</th>\n",
       "      <td>42029.447991</td>\n",
       "      <td>3498.578313</td>\n",
       "      <td>3499.162912</td>\n",
       "      <td>3.002340</td>\n",
       "      <td>6.043309</td>\n",
       "      <td>2.037807</td>\n",
       "      <td>542.590390</td>\n",
       "      <td>57.792734</td>\n",
       "      <td>36.862241</td>\n",
       "      <td>6.118189</td>\n",
       "      <td>...</td>\n",
       "      <td>1600.059442</td>\n",
       "      <td>-450.619948</td>\n",
       "      <td>1600.012842</td>\n",
       "      <td>-449.910497</td>\n",
       "      <td>1597.725177</td>\n",
       "      <td>-450.130127</td>\n",
       "      <td>1400.943157</td>\n",
       "      <td>-450.030142</td>\n",
       "      <td>1400.234743</td>\n",
       "      <td>-449.790835</td>\n",
       "    </tr>\n",
       "    <tr>\n",
       "      <th>4</th>\n",
       "      <td>42125.354245</td>\n",
       "      <td>3494.800771</td>\n",
       "      <td>3506.679315</td>\n",
       "      <td>3.169615</td>\n",
       "      <td>6.060915</td>\n",
       "      <td>1.786875</td>\n",
       "      <td>540.531893</td>\n",
       "      <td>56.047189</td>\n",
       "      <td>34.347666</td>\n",
       "      <td>5.663707</td>\n",
       "      <td>...</td>\n",
       "      <td>1600.208824</td>\n",
       "      <td>-449.599614</td>\n",
       "      <td>1600.357732</td>\n",
       "      <td>-450.034364</td>\n",
       "      <td>1599.759049</td>\n",
       "      <td>-449.909799</td>\n",
       "      <td>1401.560902</td>\n",
       "      <td>-448.877187</td>\n",
       "      <td>1401.160227</td>\n",
       "      <td>-450.407128</td>\n",
       "    </tr>\n",
       "    <tr>\n",
       "      <th>...</th>\n",
       "      <td>...</td>\n",
       "      <td>...</td>\n",
       "      <td>...</td>\n",
       "      <td>...</td>\n",
       "      <td>...</td>\n",
       "      <td>...</td>\n",
       "      <td>...</td>\n",
       "      <td>...</td>\n",
       "      <td>...</td>\n",
       "      <td>...</td>\n",
       "      <td>...</td>\n",
       "      <td>...</td>\n",
       "      <td>...</td>\n",
       "      <td>...</td>\n",
       "      <td>...</td>\n",
       "      <td>...</td>\n",
       "      <td>...</td>\n",
       "      <td>...</td>\n",
       "      <td>...</td>\n",
       "      <td>...</td>\n",
       "      <td>...</td>\n",
       "    </tr>\n",
       "    <tr>\n",
       "      <th>16855</th>\n",
       "      <td>45912.942619</td>\n",
       "      <td>2497.652954</td>\n",
       "      <td>2499.177950</td>\n",
       "      <td>1.155559</td>\n",
       "      <td>6.091855</td>\n",
       "      <td>4.617558</td>\n",
       "      <td>560.889077</td>\n",
       "      <td>85.718304</td>\n",
       "      <td>37.369774</td>\n",
       "      <td>5.335862</td>\n",
       "      <td>...</td>\n",
       "      <td>1149.807890</td>\n",
       "      <td>-498.789721</td>\n",
       "      <td>1047.963596</td>\n",
       "      <td>-498.413079</td>\n",
       "      <td>946.640977</td>\n",
       "      <td>-499.152477</td>\n",
       "      <td>849.664935</td>\n",
       "      <td>-499.214461</td>\n",
       "      <td>849.758091</td>\n",
       "      <td>-497.448664</td>\n",
       "    </tr>\n",
       "    <tr>\n",
       "      <th>16856</th>\n",
       "      <td>46200.099585</td>\n",
       "      <td>2614.403937</td>\n",
       "      <td>2518.550078</td>\n",
       "      <td>1.167342</td>\n",
       "      <td>6.121323</td>\n",
       "      <td>4.144989</td>\n",
       "      <td>559.031805</td>\n",
       "      <td>119.499241</td>\n",
       "      <td>38.591551</td>\n",
       "      <td>4.838619</td>\n",
       "      <td>...</td>\n",
       "      <td>1147.675196</td>\n",
       "      <td>-500.608341</td>\n",
       "      <td>1048.565741</td>\n",
       "      <td>-500.932810</td>\n",
       "      <td>949.773589</td>\n",
       "      <td>-500.023144</td>\n",
       "      <td>848.515225</td>\n",
       "      <td>-500.289405</td>\n",
       "      <td>850.013123</td>\n",
       "      <td>-496.822119</td>\n",
       "    </tr>\n",
       "    <tr>\n",
       "      <th>16857</th>\n",
       "      <td>44585.181334</td>\n",
       "      <td>2510.813545</td>\n",
       "      <td>2510.142433</td>\n",
       "      <td>1.125637</td>\n",
       "      <td>5.970515</td>\n",
       "      <td>4.020002</td>\n",
       "      <td>555.682872</td>\n",
       "      <td>122.262690</td>\n",
       "      <td>40.074026</td>\n",
       "      <td>4.525061</td>\n",
       "      <td>...</td>\n",
       "      <td>1149.942902</td>\n",
       "      <td>-501.717903</td>\n",
       "      <td>1049.604390</td>\n",
       "      <td>-500.549053</td>\n",
       "      <td>952.702732</td>\n",
       "      <td>-502.352296</td>\n",
       "      <td>849.016017</td>\n",
       "      <td>-500.505677</td>\n",
       "      <td>850.455635</td>\n",
       "      <td>-506.897968</td>\n",
       "    </tr>\n",
       "    <tr>\n",
       "      <th>16858</th>\n",
       "      <td>44084.735708</td>\n",
       "      <td>2507.572494</td>\n",
       "      <td>2507.723361</td>\n",
       "      <td>1.117935</td>\n",
       "      <td>6.048130</td>\n",
       "      <td>3.902537</td>\n",
       "      <td>544.731687</td>\n",
       "      <td>123.742430</td>\n",
       "      <td>39.713906</td>\n",
       "      <td>4.362781</td>\n",
       "      <td>...</td>\n",
       "      <td>1154.087804</td>\n",
       "      <td>-500.036580</td>\n",
       "      <td>1054.009756</td>\n",
       "      <td>-500.237335</td>\n",
       "      <td>944.138793</td>\n",
       "      <td>-496.866953</td>\n",
       "      <td>851.589767</td>\n",
       "      <td>-499.040466</td>\n",
       "      <td>851.345606</td>\n",
       "      <td>-499.122561</td>\n",
       "    </tr>\n",
       "    <tr>\n",
       "      <th>16859</th>\n",
       "      <td>44082.866565</td>\n",
       "      <td>2487.477762</td>\n",
       "      <td>2488.626080</td>\n",
       "      <td>1.126367</td>\n",
       "      <td>6.158718</td>\n",
       "      <td>3.875727</td>\n",
       "      <td>555.820208</td>\n",
       "      <td>94.544358</td>\n",
       "      <td>39.135119</td>\n",
       "      <td>4.365491</td>\n",
       "      <td>...</td>\n",
       "      <td>1147.248241</td>\n",
       "      <td>-500.363165</td>\n",
       "      <td>1047.279065</td>\n",
       "      <td>-500.354091</td>\n",
       "      <td>948.756608</td>\n",
       "      <td>-498.439416</td>\n",
       "      <td>849.441918</td>\n",
       "      <td>-499.255503</td>\n",
       "      <td>850.112246</td>\n",
       "      <td>-499.407112</td>\n",
       "    </tr>\n",
       "  </tbody>\n",
       "</table>\n",
       "<p>16860 rows × 35 columns</p>\n",
       "</div>"
      ],
      "text/plain": [
       "       rougher.calculation.sulfate_to_au_concentrate  \\\n",
       "0                                       41885.707031   \n",
       "1                                       42050.861809   \n",
       "2                                       42018.101184   \n",
       "3                                       42029.447991   \n",
       "4                                       42125.354245   \n",
       "...                                              ...   \n",
       "16855                                   45912.942619   \n",
       "16856                                   46200.099585   \n",
       "16857                                   44585.181334   \n",
       "16858                                   44084.735708   \n",
       "16859                                   44082.866565   \n",
       "\n",
       "       rougher.calculation.floatbank10_sulfate_to_au_feed  \\\n",
       "0                                            3481.779053    \n",
       "1                                            3498.370979    \n",
       "2                                            3495.348910    \n",
       "3                                            3498.578313    \n",
       "4                                            3494.800771    \n",
       "...                                                  ...    \n",
       "16855                                        2497.652954    \n",
       "16856                                        2614.403937    \n",
       "16857                                        2510.813545    \n",
       "16858                                        2507.572494    \n",
       "16859                                        2487.477762    \n",
       "\n",
       "       rougher.calculation.floatbank11_sulfate_to_au_feed  \\\n",
       "0                                            3520.337158    \n",
       "1                                            3489.981857    \n",
       "2                                            3502.359819    \n",
       "3                                            3499.162912    \n",
       "4                                            3506.679315    \n",
       "...                                                  ...    \n",
       "16855                                        2499.177950    \n",
       "16856                                        2518.550078    \n",
       "16857                                        2510.142433    \n",
       "16858                                        2507.723361    \n",
       "16859                                        2488.626080    \n",
       "\n",
       "       rougher.calculation.au_pb_ratio  rougher.input.feed_ag  \\\n",
       "0                             2.838687               6.100378   \n",
       "1                             2.858998               6.161113   \n",
       "2                             2.945989               6.116455   \n",
       "3                             3.002340               6.043309   \n",
       "4                             3.169615               6.060915   \n",
       "...                                ...                    ...   \n",
       "16855                         1.155559               6.091855   \n",
       "16856                         1.167342               6.121323   \n",
       "16857                         1.125637               5.970515   \n",
       "16858                         1.117935               6.048130   \n",
       "16859                         1.126367               6.158718   \n",
       "\n",
       "       rougher.input.feed_pb  rougher.input.feed_rate  \\\n",
       "0                   2.284912               523.546326   \n",
       "1                   2.266033               525.290581   \n",
       "2                   2.159622               530.026610   \n",
       "3                   2.037807               542.590390   \n",
       "4                   1.786875               540.531893   \n",
       "...                      ...                      ...   \n",
       "16855               4.617558               560.889077   \n",
       "16856               4.144989               559.031805   \n",
       "16857               4.020002               555.682872   \n",
       "16858               3.902537               544.731687   \n",
       "16859               3.875727               555.820208   \n",
       "\n",
       "       rougher.input.feed_size  rougher.input.feed_sol  rougher.input.feed_au  \\\n",
       "0                    55.486599               36.808594               6.486150   \n",
       "1                    57.278666               35.753385               6.478583   \n",
       "2                    57.510649               35.971630               6.362222   \n",
       "3                    57.792734               36.862241               6.118189   \n",
       "4                    56.047189               34.347666               5.663707   \n",
       "...                        ...                     ...                    ...   \n",
       "16855                85.718304               37.369774               5.335862   \n",
       "16856               119.499241               38.591551               4.838619   \n",
       "16857               122.262690               40.074026               4.525061   \n",
       "16858               123.742430               39.713906               4.362781   \n",
       "16859                94.544358               39.135119               4.365491   \n",
       "\n",
       "       ...  rougher.state.floatbank10_b_air  \\\n",
       "0      ...                      1603.011353   \n",
       "1      ...                      1600.754587   \n",
       "2      ...                      1599.337330   \n",
       "3      ...                      1600.059442   \n",
       "4      ...                      1600.208824   \n",
       "...    ...                              ...   \n",
       "16855  ...                      1149.807890   \n",
       "16856  ...                      1147.675196   \n",
       "16857  ...                      1149.942902   \n",
       "16858  ...                      1154.087804   \n",
       "16859  ...                      1147.248241   \n",
       "\n",
       "       rougher.state.floatbank10_b_level  rougher.state.floatbank10_c_air  \\\n",
       "0                            -434.715027                      1602.375000   \n",
       "1                            -449.953435                      1600.479580   \n",
       "2                            -450.008530                      1599.672797   \n",
       "3                            -450.619948                      1600.012842   \n",
       "4                            -449.599614                      1600.357732   \n",
       "...                                  ...                              ...   \n",
       "16855                        -498.789721                      1047.963596   \n",
       "16856                        -500.608341                      1048.565741   \n",
       "16857                        -501.717903                      1049.604390   \n",
       "16858                        -500.036580                      1054.009756   \n",
       "16859                        -500.363165                      1047.279065   \n",
       "\n",
       "       rougher.state.floatbank10_c_level  rougher.state.floatbank10_d_air  \\\n",
       "0                            -442.204468                      1598.937256   \n",
       "1                            -449.830646                      1600.527589   \n",
       "2                            -449.954491                      1599.849325   \n",
       "3                            -449.910497                      1597.725177   \n",
       "4                            -450.034364                      1599.759049   \n",
       "...                                  ...                              ...   \n",
       "16855                        -498.413079                       946.640977   \n",
       "16856                        -500.932810                       949.773589   \n",
       "16857                        -500.549053                       952.702732   \n",
       "16858                        -500.237335                       944.138793   \n",
       "16859                        -500.354091                       948.756608   \n",
       "\n",
       "       rougher.state.floatbank10_d_level  rougher.state.floatbank10_e_air  \\\n",
       "0                            -451.294128                      1404.472046   \n",
       "1                            -449.953649                      1399.227084   \n",
       "2                            -449.954185                      1399.180945   \n",
       "3                            -450.130127                      1400.943157   \n",
       "4                            -449.909799                      1401.560902   \n",
       "...                                  ...                              ...   \n",
       "16855                        -499.152477                       849.664935   \n",
       "16856                        -500.023144                       848.515225   \n",
       "16857                        -502.352296                       849.016017   \n",
       "16858                        -496.866953                       851.589767   \n",
       "16859                        -498.439416                       849.441918   \n",
       "\n",
       "       rougher.state.floatbank10_e_level  rougher.state.floatbank10_f_air  \\\n",
       "0                            -455.462982                      1416.354980   \n",
       "1                            -450.869848                      1399.719514   \n",
       "2                            -449.937588                      1400.316682   \n",
       "3                            -450.030142                      1400.234743   \n",
       "4                            -448.877187                      1401.160227   \n",
       "...                                  ...                              ...   \n",
       "16855                        -499.214461                       849.758091   \n",
       "16856                        -500.289405                       850.013123   \n",
       "16857                        -500.505677                       850.455635   \n",
       "16858                        -499.040466                       851.345606   \n",
       "16859                        -499.255503                       850.112246   \n",
       "\n",
       "       rougher.state.floatbank10_f_level  \n",
       "0                            -451.939636  \n",
       "1                            -450.119001  \n",
       "2                            -450.527147  \n",
       "3                            -449.790835  \n",
       "4                            -450.407128  \n",
       "...                                  ...  \n",
       "16855                        -497.448664  \n",
       "16856                        -496.822119  \n",
       "16857                        -506.897968  \n",
       "16858                        -499.122561  \n",
       "16859                        -499.407112  \n",
       "\n",
       "[16860 rows x 35 columns]"
      ]
     },
     "metadata": {},
     "output_type": "display_data"
    }
   ],
   "source": [
    "rougher_training = str_cols(training, 'rougher')\n",
    "display(rougher_training)"
   ]
  },
  {
   "cell_type": "code",
   "execution_count": 128,
   "metadata": {},
   "outputs": [
    {
     "name": "stdout",
     "output_type": "stream",
     "text": [
      "Mean Absolute Error: 1.0724115653039479e-14\n"
     ]
    }
   ],
   "source": [
    "C = 'rougher.output.concentrate_au'\n",
    "F = 'rougher.input.feed_au'\n",
    "T = 'rougher.output.tail_au'\n",
    "\n",
    "recover_calc = recover_cal(training,C,F,T)\n",
    "mae = dropna(recover_calc, training[\"rougher.output.recovery\"])\n",
    "mae = mean_absolute_error(mae['a'], mae['b'])\n",
    "print(\"Mean Absolute Error:\", mae)"
   ]
  },
  {
   "cell_type": "markdown",
   "metadata": {},
   "source": [
    "###  Analyze the features not available in the test set. What are these parameters? What is their type?"
   ]
  },
  {
   "cell_type": "code",
   "execution_count": 129,
   "metadata": {},
   "outputs": [
    {
     "data": {
      "text/plain": [
       "final.output.concentrate_ag                             89\n",
       "final.output.concentrate_au                             86\n",
       "final.output.concentrate_pb                             87\n",
       "final.output.concentrate_sol                           385\n",
       "final.output.recovery                                 1963\n",
       "final.output.tail_ag                                    83\n",
       "final.output.tail_au                                    81\n",
       "final.output.tail_pb                                   200\n",
       "final.output.tail_sol                                  271\n",
       "primary_cleaner.output.concentrate_ag                   98\n",
       "primary_cleaner.output.concentrate_au                   98\n",
       "primary_cleaner.output.concentrate_pb                  448\n",
       "primary_cleaner.output.concentrate_sol                 798\n",
       "primary_cleaner.output.tail_ag                         102\n",
       "primary_cleaner.output.tail_au                          99\n",
       "primary_cleaner.output.tail_pb                         122\n",
       "primary_cleaner.output.tail_sol                        351\n",
       "rougher.calculation.au_pb_ratio                       1627\n",
       "rougher.calculation.floatbank10_sulfate_to_au_feed      44\n",
       "rougher.calculation.floatbank11_sulfate_to_au_feed      44\n",
       "rougher.calculation.sulfate_to_au_concentrate           44\n",
       "rougher.output.concentrate_ag                           98\n",
       "rougher.output.concentrate_au                           98\n",
       "rougher.output.concentrate_pb                           98\n",
       "rougher.output.concentrate_sol                         190\n",
       "rougher.output.recovery                               3119\n",
       "rougher.output.tail_ag                                2737\n",
       "rougher.output.tail_au                                2736\n",
       "rougher.output.tail_pb                                  98\n",
       "rougher.output.tail_sol                               2736\n",
       "secondary_cleaner.output.tail_ag                       100\n",
       "secondary_cleaner.output.tail_au                        98\n",
       "secondary_cleaner.output.tail_pb                       116\n",
       "secondary_cleaner.output.tail_sol                     2215\n",
       "dtype: int64"
      ]
     },
     "execution_count": 129,
     "metadata": {},
     "output_type": "execute_result"
    }
   ],
   "source": [
    "not_in_test = source.columns.difference(testing.columns)\n",
    "source[not_in_test].head()\n",
    "source[not_in_test].isna().sum()"
   ]
  },
  {
   "cell_type": "markdown",
   "metadata": {},
   "source": [
    "There are nearly 50 features, many of which contain NA values. Depending on the project's requirements, we will address them accordingly."
   ]
  },
  {
   "cell_type": "markdown",
   "metadata": {},
   "source": [
    "## Analyze the data"
   ]
  },
  {
   "cell_type": "markdown",
   "metadata": {},
   "source": [
    "### Take note of how the concentrations of metals (Au, Ag, Pb) change depending on the purification stage."
   ]
  },
  {
   "cell_type": "code",
   "execution_count": 130,
   "metadata": {
    "scrolled": true
   },
   "outputs": [
    {
     "name": "stdout",
     "output_type": "stream",
     "text": [
      "['final.output.concentrate_au', 'final.output.tail_au', 'primary_cleaner.output.concentrate_au', 'primary_cleaner.output.tail_au', 'rougher.calculation.sulfate_to_au_concentrate', 'rougher.calculation.floatbank10_sulfate_to_au_feed', 'rougher.calculation.floatbank11_sulfate_to_au_feed', 'rougher.calculation.au_pb_ratio', 'rougher.input.feed_au', 'rougher.output.concentrate_au', 'rougher.output.tail_au', 'secondary_cleaner.output.tail_au']\n",
      "['rougher.calculation.sulfate_to_au_concentrate', 'rougher.calculation.floatbank10_sulfate_to_au_feed', 'rougher.calculation.floatbank11_sulfate_to_au_feed', 'rougher.calculation.au_pb_ratio', 'rougher.input.feed_au', 'rougher.output.concentrate_au', 'rougher.output.tail_au']\n",
      "['rougher.calculation.floatbank10_sulfate_to_au_feed', 'rougher.calculation.floatbank11_sulfate_to_au_feed', 'rougher.input.feed_au']\n",
      "['rougher.input.feed_au']\n",
      "['final.output.concentrate_ag', 'final.output.tail_ag', 'primary_cleaner.output.concentrate_ag', 'primary_cleaner.output.tail_ag', 'rougher.input.feed_ag', 'rougher.output.concentrate_ag', 'rougher.output.tail_ag', 'secondary_cleaner.output.tail_ag']\n",
      "['rougher.input.feed_ag', 'rougher.output.concentrate_ag', 'rougher.output.tail_ag']\n",
      "['rougher.input.feed_ag']\n",
      "['rougher.input.feed_ag']\n",
      "['final.output.concentrate_pb', 'final.output.tail_pb', 'primary_cleaner.output.concentrate_pb', 'primary_cleaner.output.tail_pb', 'rougher.calculation.au_pb_ratio', 'rougher.input.feed_pb', 'rougher.output.concentrate_pb', 'rougher.output.tail_pb', 'secondary_cleaner.output.tail_pb']\n",
      "['rougher.calculation.au_pb_ratio', 'rougher.input.feed_pb', 'rougher.output.concentrate_pb', 'rougher.output.tail_pb']\n",
      "['rougher.input.feed_pb']\n",
      "['rougher.input.feed_pb']\n",
      "['final.output.concentrate_au', 'final.output.tail_au', 'primary_cleaner.output.concentrate_au', 'primary_cleaner.output.tail_au', 'rougher.calculation.sulfate_to_au_concentrate', 'rougher.calculation.floatbank10_sulfate_to_au_feed', 'rougher.calculation.floatbank11_sulfate_to_au_feed', 'rougher.calculation.au_pb_ratio', 'rougher.input.feed_au', 'rougher.output.concentrate_au', 'rougher.output.tail_au', 'secondary_cleaner.output.tail_au']\n",
      "['final.output.concentrate_au', 'final.output.tail_au']\n",
      "['final.output.concentrate_au', 'final.output.tail_au']\n",
      "['final.output.tail_au']\n",
      "['final.output.concentrate_ag', 'final.output.tail_ag', 'primary_cleaner.output.concentrate_ag', 'primary_cleaner.output.tail_ag', 'rougher.input.feed_ag', 'rougher.output.concentrate_ag', 'rougher.output.tail_ag', 'secondary_cleaner.output.tail_ag']\n",
      "['final.output.concentrate_ag', 'final.output.tail_ag']\n",
      "['final.output.concentrate_ag', 'final.output.tail_ag']\n",
      "['final.output.tail_ag']\n",
      "['final.output.concentrate_pb', 'final.output.tail_pb', 'primary_cleaner.output.concentrate_pb', 'primary_cleaner.output.tail_pb', 'rougher.calculation.au_pb_ratio', 'rougher.input.feed_pb', 'rougher.output.concentrate_pb', 'rougher.output.tail_pb', 'secondary_cleaner.output.tail_pb']\n",
      "['final.output.concentrate_pb', 'final.output.tail_pb']\n",
      "['final.output.concentrate_pb', 'final.output.tail_pb']\n",
      "['final.output.tail_pb']\n",
      "['final.output.concentrate_au', 'final.output.tail_au', 'primary_cleaner.output.concentrate_au', 'primary_cleaner.output.tail_au', 'rougher.calculation.sulfate_to_au_concentrate', 'rougher.calculation.floatbank10_sulfate_to_au_feed', 'rougher.calculation.floatbank11_sulfate_to_au_feed', 'rougher.calculation.au_pb_ratio', 'rougher.input.feed_au', 'rougher.output.concentrate_au', 'rougher.output.tail_au', 'secondary_cleaner.output.tail_au']\n",
      "['rougher.calculation.sulfate_to_au_concentrate', 'rougher.calculation.floatbank10_sulfate_to_au_feed', 'rougher.calculation.floatbank11_sulfate_to_au_feed', 'rougher.calculation.au_pb_ratio', 'rougher.input.feed_au', 'rougher.output.concentrate_au', 'rougher.output.tail_au']\n",
      "['rougher.output.concentrate_au', 'rougher.output.tail_au']\n",
      "['rougher.output.tail_au']\n",
      "['final.output.concentrate_ag', 'final.output.tail_ag', 'primary_cleaner.output.concentrate_ag', 'primary_cleaner.output.tail_ag', 'rougher.input.feed_ag', 'rougher.output.concentrate_ag', 'rougher.output.tail_ag', 'secondary_cleaner.output.tail_ag']\n",
      "['rougher.input.feed_ag', 'rougher.output.concentrate_ag', 'rougher.output.tail_ag']\n",
      "['rougher.output.concentrate_ag', 'rougher.output.tail_ag']\n",
      "['rougher.output.tail_ag']\n",
      "['final.output.concentrate_pb', 'final.output.tail_pb', 'primary_cleaner.output.concentrate_pb', 'primary_cleaner.output.tail_pb', 'rougher.calculation.au_pb_ratio', 'rougher.input.feed_pb', 'rougher.output.concentrate_pb', 'rougher.output.tail_pb', 'secondary_cleaner.output.tail_pb']\n",
      "['rougher.calculation.au_pb_ratio', 'rougher.input.feed_pb', 'rougher.output.concentrate_pb', 'rougher.output.tail_pb']\n",
      "['rougher.output.concentrate_pb', 'rougher.output.tail_pb']\n",
      "['rougher.output.tail_pb']\n",
      "['final.output.concentrate_au', 'final.output.tail_au', 'primary_cleaner.output.concentrate_au', 'primary_cleaner.output.tail_au', 'rougher.calculation.sulfate_to_au_concentrate', 'rougher.calculation.floatbank10_sulfate_to_au_feed', 'rougher.calculation.floatbank11_sulfate_to_au_feed', 'rougher.calculation.au_pb_ratio', 'rougher.input.feed_au', 'rougher.output.concentrate_au', 'rougher.output.tail_au', 'secondary_cleaner.output.tail_au']\n",
      "['primary_cleaner.output.concentrate_au', 'primary_cleaner.output.tail_au']\n",
      "['primary_cleaner.output.concentrate_au', 'primary_cleaner.output.tail_au']\n",
      "['primary_cleaner.output.concentrate_au']\n",
      "['final.output.concentrate_ag', 'final.output.tail_ag', 'primary_cleaner.output.concentrate_ag', 'primary_cleaner.output.tail_ag', 'rougher.input.feed_ag', 'rougher.output.concentrate_ag', 'rougher.output.tail_ag', 'secondary_cleaner.output.tail_ag']\n",
      "['primary_cleaner.output.concentrate_ag', 'primary_cleaner.output.tail_ag']\n",
      "['primary_cleaner.output.concentrate_ag', 'primary_cleaner.output.tail_ag']\n",
      "['primary_cleaner.output.concentrate_ag']\n",
      "['final.output.concentrate_pb', 'final.output.tail_pb', 'primary_cleaner.output.concentrate_pb', 'primary_cleaner.output.tail_pb', 'rougher.calculation.au_pb_ratio', 'rougher.input.feed_pb', 'rougher.output.concentrate_pb', 'rougher.output.tail_pb', 'secondary_cleaner.output.tail_pb']\n",
      "['final.output.concentrate_pb', 'final.output.tail_pb']\n",
      "['final.output.concentrate_pb', 'final.output.tail_pb']\n",
      "['final.output.concentrate_pb']\n",
      "['final.output.concentrate_au', 'final.output.tail_au', 'primary_cleaner.output.concentrate_au', 'primary_cleaner.output.tail_au', 'rougher.calculation.sulfate_to_au_concentrate', 'rougher.calculation.floatbank10_sulfate_to_au_feed', 'rougher.calculation.floatbank11_sulfate_to_au_feed', 'rougher.calculation.au_pb_ratio', 'rougher.input.feed_au', 'rougher.output.concentrate_au', 'rougher.output.tail_au', 'secondary_cleaner.output.tail_au']\n",
      "['final.output.concentrate_au', 'final.output.tail_au']\n",
      "['final.output.concentrate_au', 'final.output.tail_au']\n",
      "['final.output.concentrate_au']\n",
      "['final.output.concentrate_ag', 'final.output.tail_ag', 'primary_cleaner.output.concentrate_ag', 'primary_cleaner.output.tail_ag', 'rougher.input.feed_ag', 'rougher.output.concentrate_ag', 'rougher.output.tail_ag', 'secondary_cleaner.output.tail_ag']\n",
      "['final.output.concentrate_ag', 'final.output.tail_ag']\n",
      "['final.output.concentrate_ag', 'final.output.tail_ag']\n",
      "['final.output.concentrate_ag']\n",
      "['final.output.concentrate_pb', 'final.output.tail_pb', 'primary_cleaner.output.concentrate_pb', 'primary_cleaner.output.tail_pb', 'rougher.calculation.au_pb_ratio', 'rougher.input.feed_pb', 'rougher.output.concentrate_pb', 'rougher.output.tail_pb', 'secondary_cleaner.output.tail_pb']\n",
      "['final.output.concentrate_pb', 'final.output.tail_pb']\n",
      "['final.output.concentrate_pb', 'final.output.tail_pb']\n",
      "['final.output.concentrate_pb']\n"
     ]
    }
   ],
   "source": [
    "#Let us create vectors for each element for each stage we care about.\n",
    "au_rougher_feed = rougher(source,'au','rougher','feed', 'input')\n",
    "ag_rougher_feed = rougher(source,'ag','rougher','feed', 'input')\n",
    "pb_rougher_feed = rougher(source,'pb','rougher','feed', 'input')\n",
    "\n",
    "au_final_output = rougher(source,'au','final','output', 'tail')\n",
    "ag_final_output = rougher(source,'ag','final','output', 'tail')\n",
    "pb_final_output = rougher(source,'pb','final','output', 'tail')\n",
    "\n",
    "au_rougher_output = rougher(source,'au','rougher','output', 'tail')\n",
    "ag_rougher_output = rougher(source,'ag','rougher','output', 'tail')\n",
    "pb_rougher_output= rougher(source,'pb','rougher','output', 'tail')\n",
    "\n",
    "au_primary_output = rougher(source,'au','primary','output','concentrate')\n",
    "ag_primary_output= rougher(source,'ag','primary','output','concentrate')\n",
    "pb_primary_output = rougher(source,'pb','final','output','concentrate')\n",
    "\n",
    "au_final_output_concentrate = rougher(source,'au','final','output','concentrate')\n",
    "ag_final_output_concentrate = rougher(source,'ag','final','output','concentrate')\n",
    "pb_final_output_concentrate = rougher(source,'pb','final','output','concentrate')"
   ]
  },
  {
   "cell_type": "code",
   "execution_count": 131,
   "metadata": {},
   "outputs": [
    {
     "data": {
      "image/png": "[encoded data removed]",
      "text/plain": [
       "<Figure size 1300x800 with 1 Axes>"
      ]
     },
     "metadata": {},
     "output_type": "display_data"
    }
   ],
   "source": [
    "plt.figure(figsize=(13,8), dpi= 100, facecolor='w', edgecolor='k')\n",
    "labels = ['Au', 'Ag', 'Pb']\n",
    "bars1 = [au_rougher_feed, au_final_output,au_rougher_output, au_primary_output, au_final_output_concentrate]\n",
    "bars2 = [ag_rougher_feed, ag_final_output,ag_rougher_output, ag_primary_output, ag_final_output_concentrate]\n",
    "bars3 = [pb_rougher_feed, pb_final_output,pb_rougher_output, pb_primary_output, pb_final_output_concentrate]\n",
    "\n",
    "barWidth = 0.25\n",
    "\n",
    "r1 = np.arange(len(bars1))\n",
    "r2 = [x + barWidth for x in r1]\n",
    "r3 = [x + barWidth for x in r2]\n",
    " \n",
    "# Make the plot\n",
    "plt.bar(r1, bars1, color='blue', width=barWidth, edgecolor='white', label='Au')\n",
    "plt.bar(r2, bars2, color='brown', width=barWidth, edgecolor='white', label='Ag')\n",
    "plt.bar(r3, bars3, color='pink', width=barWidth, edgecolor='white', label='Pb')\n",
    " \n",
    "# Add xticks on the middle of the group bars\n",
    "plt.xlabel('Stage', fontweight='bold')\n",
    "plt.xticks([r + barWidth for r in range(len(bars1))], ['Rougher input feed', 'Final_output_tail', 'Rougher output tail','Primary Output Concentrate', 'Final Output Concentrate'])\n",
    " \n",
    "# Create legend & Show graphic\n",
    "plt.legend()\n",
    "plt.show()"
   ]
  },
  {
   "cell_type": "markdown",
   "metadata": {},
   "source": [
    "The graph provides a clear view of metal concentrations at each stage. It shows that gold's concentration significantly rises from the input stage. Lead's concentration also increases, but to a lesser extent. On the other hand, silver's concentration decreases."
   ]
  },
  {
   "cell_type": "code",
   "execution_count": 132,
   "metadata": {},
   "outputs": [
    {
     "name": "stdout",
     "output_type": "stream",
     "text": [
      "count    16443.000000\n",
      "mean        58.676444\n",
      "std         23.922591\n",
      "min          9.659576\n",
      "25%         47.575879\n",
      "50%         54.104257\n",
      "75%         65.051064\n",
      "max        484.967466\n",
      "Name: rougher.input.feed_size, dtype: float64\n",
      "count    5834.000000\n",
      "mean       55.937535\n",
      "std        22.724254\n",
      "min         0.046369\n",
      "25%        43.890852\n",
      "50%        50.002004\n",
      "75%        61.638434\n",
      "max       477.445473\n",
      "Name: rougher.input.feed_size, dtype: float64\n"
     ]
    },
    {
     "data": {
      "text/plain": [
       "<AxesSubplot:>"
      ]
     },
     "execution_count": 132,
     "metadata": {},
     "output_type": "execute_result"
    },
    {
     "data": {
      "image/png": "[encoded data removed]",
      "text/plain": [
       "<Figure size 640x480 with 1 Axes>"
      ]
     },
     "metadata": {},
     "output_type": "display_data"
    }
   ],
   "source": [
    "print(training['rougher.input.feed_size'].describe())\n",
    "print(testing['rougher.input.feed_size'].describe())\n",
    "training['rougher.input.feed_size'].hist(density=True)"
   ]
  },
  {
   "cell_type": "code",
   "execution_count": 133,
   "metadata": {},
   "outputs": [
    {
     "data": {
      "text/plain": [
       "<AxesSubplot:>"
      ]
     },
     "execution_count": 133,
     "metadata": {},
     "output_type": "execute_result"
    },
    {
     "data": {
      "image/png": "[encoded data removed]",
      "text/plain": [
       "<Figure size 640x480 with 1 Axes>"
      ]
     },
     "metadata": {},
     "output_type": "display_data"
    }
   ],
   "source": [
    "testing['rougher.input.feed_size'].hist(density=True)"
   ]
  },
  {
   "cell_type": "markdown",
   "metadata": {},
   "source": [
    "### Conclusion:\n",
    "\n",
    "The `rougher.input.feed_size` distributions in both the training and testing datasets are similar, with both showing right-skewed distributions and close mean and median values. However, the training set has a slightly higher mean and standard deviation. Notably, the testing set has an extremely low minimum value, which may indicate a potential data issue that needs investigation. Overall, the consistency between the datasets supports reliable model training and evaluation, but outliers and data quality should be addressed."
   ]
  },
  {
   "cell_type": "code",
   "execution_count": 134,
   "metadata": {},
   "outputs": [
    {
     "name": "stdout",
     "output_type": "stream",
     "text": [
      "['rougher.input.feed_ag', 'rougher.input.feed_pb', 'rougher.input.feed_rate', 'rougher.input.feed_size', 'rougher.input.feed_sol', 'rougher.input.feed_au']\n"
     ]
    },
    {
     "data": {
      "image/png": "[encoded data removed]",
      "text/plain": [
       "<Figure size 640x480 with 1 Axes>"
      ]
     },
     "metadata": {},
     "output_type": "display_data"
    }
   ],
   "source": [
    "rougher_names = concentrate_sum(source, 'rougher.input.feed_rate', 'rougher.input.feed_size')\n",
    "source[rougher_names].sum(1).hist()\n",
    "rougher = source[rougher_names]\n",
    "#Let us remove rows with only 0\n",
    "a_series = (rougher != 0).any(axis=1)\n",
    "\n",
    "rougher = rougher.loc[a_series]"
   ]
  },
  {
   "cell_type": "code",
   "execution_count": 135,
   "metadata": {},
   "outputs": [
    {
     "data": {
      "text/plain": [
       "<AxesSubplot:>"
      ]
     },
     "execution_count": 135,
     "metadata": {},
     "output_type": "execute_result"
    },
    {
     "data": {
      "image/png": "[encoded data removed]",
      "text/plain": [
       "<Figure size 640x480 with 1 Axes>"
      ]
     },
     "metadata": {},
     "output_type": "display_data"
    }
   ],
   "source": [
    "rougher.sum(1).hist()"
   ]
  },
  {
   "cell_type": "code",
   "execution_count": 136,
   "metadata": {},
   "outputs": [
    {
     "name": "stdout",
     "output_type": "stream",
     "text": [
      "['rougher.output.concentrate_ag', 'rougher.output.concentrate_pb', 'rougher.output.concentrate_sol', 'rougher.output.concentrate_au']\n"
     ]
    },
    {
     "data": {
      "image/png": "[encoded data removed]",
      "text/plain": [
       "<Figure size 640x480 with 1 Axes>"
      ]
     },
     "metadata": {},
     "output_type": "display_data"
    }
   ],
   "source": [
    "rougher_output_names = str_cols(source,'rougher.output.concentrate').columns\n",
    "source[rougher_output_names].sum(1).hist()\n",
    "\n",
    "rougher_output = source[rougher_output_names]\n",
    "#Let us remove rows with only 0\n",
    "a_series = (rougher_output != 0).any(axis=1)\n",
    "\n",
    "rougher_output = rougher_output.loc[a_series]"
   ]
  },
  {
   "cell_type": "code",
   "execution_count": 137,
   "metadata": {},
   "outputs": [
    {
     "data": {
      "text/plain": [
       "<AxesSubplot:>"
      ]
     },
     "execution_count": 137,
     "metadata": {},
     "output_type": "execute_result"
    },
    {
     "data": {
      "image/png": "[encoded data removed]",
      "text/plain": [
       "<Figure size 640x480 with 1 Axes>"
      ]
     },
     "metadata": {},
     "output_type": "display_data"
    }
   ],
   "source": [
    "rougher_output.sum(1).hist()"
   ]
  },
  {
   "cell_type": "code",
   "execution_count": 138,
   "metadata": {},
   "outputs": [
    {
     "name": "stdout",
     "output_type": "stream",
     "text": [
      "['final.output.concentrate_ag', 'final.output.concentrate_pb', 'final.output.concentrate_sol', 'final.output.concentrate_au']\n"
     ]
    },
    {
     "data": {
      "text/plain": [
       "<AxesSubplot:>"
      ]
     },
     "execution_count": 138,
     "metadata": {},
     "output_type": "execute_result"
    },
    {
     "data": {
      "image/png": "[encoded data removed]",
      "text/plain": [
       "<Figure size 640x480 with 1 Axes>"
      ]
     },
     "metadata": {},
     "output_type": "display_data"
    }
   ],
   "source": [
    "final_output_names = str_cols(source,'final.output.concentrate').columns\n",
    "source[final_output_names].sum(1).hist()"
   ]
  },
  {
   "cell_type": "code",
   "execution_count": 139,
   "metadata": {},
   "outputs": [
    {
     "data": {
      "text/plain": [
       "<AxesSubplot:>"
      ]
     },
     "execution_count": 139,
     "metadata": {},
     "output_type": "execute_result"
    },
    {
     "data": {
      "image/png": "[encoded data removed]",
      "text/plain": [
       "<Figure size 640x480 with 1 Axes>"
      ]
     },
     "metadata": {},
     "output_type": "display_data"
    }
   ],
   "source": [
    "final_output = source[final_output_names]\n",
    "#Let us remove rows with only 0\n",
    "a_series = (final_output != 0).any(axis=1)\n",
    "\n",
    "final_output = final_output.loc[a_series]\n",
    "final_output.sum(1).hist()"
   ]
  },
  {
   "cell_type": "markdown",
   "metadata": {},
   "source": [
    "Overall, these histograms help in understanding the distribution of input and output values in the rougher and final stages of the process. The right-skewness indicates that while most of the values are low, there are some higher values that are less frequent. This could be indicative of the nature of the material processing, where most instances have low values, but there are occasional instances with higher values."
   ]
  },
  {
   "cell_type": "markdown",
   "metadata": {},
   "source": [
    "## Build the model"
   ]
  },
  {
   "cell_type": "markdown",
   "metadata": {},
   "source": [
    "### Write a function to calculate the final sMAPE value."
   ]
  },
  {
   "cell_type": "markdown",
   "metadata": {},
   "source": [
    "### Train different models. Evaluate them using cross-validation. Pick the best model and test it using the test sample. Provide findings."
   ]
  },
  {
   "cell_type": "code",
   "execution_count": 144,
   "metadata": {},
   "outputs": [],
   "source": [
    "target = ['rougher.output.recovery', 'final.output.recovery']\n",
    "features = list(set(training.columns).intersection(set(testing.columns)).difference(set(target)))\n",
    "\n",
    "features.remove('date')\n",
    "\n",
    "# Merge targets with the test set using 'date' as the key\n",
    "test = testing.merge(source[target + ['date']], how='left', on='date')\n",
    "\n",
    "# Drop rows with NaN values from both training and test sets\n",
    "train = training.dropna(subset=target + features)\n",
    "test = test.dropna(subset=target + features)"
   ]
  },
  {
   "cell_type": "code",
   "execution_count": 148,
   "metadata": {
    "scrolled": true
   },
   "outputs": [],
   "source": [
    "# Extract feature and target arrays for training and testing\n",
    "features_train = train[features].values\n",
    "target_train = train[target].values\n",
    "\n",
    "features_test = test[features].values\n",
    "target_test = test[target].values"
   ]
  },
  {
   "cell_type": "code",
   "execution_count": 149,
   "metadata": {},
   "outputs": [
    {
     "name": "stdout",
     "output_type": "stream",
     "text": [
      "Average model evaluation score: 0.053967919522758034\n"
     ]
    }
   ],
   "source": [
    "# Linear regression\n",
    "model1 = LinearRegression()  # Initialize model constructor\n",
    "model1.fit(features_train, target_train)  # Train model on training set\n",
    "\n",
    "# Cross-validation using final smape as scoring\n",
    "scores1 = cross_val_score(model1, features_train, target_train, scoring=smape_score, cv=5)\n",
    "\n",
    "final_score1 = sum(scores1) / len(scores1)\n",
    "print('Average model evaluation score:', final_score1)\n",
    "\n"
   ]
  },
  {
   "cell_type": "code",
   "execution_count": 150,
   "metadata": {},
   "outputs": [
    {
     "name": "stdout",
     "output_type": "stream",
     "text": [
      "Average model evaluation score: 0.10385259020047292\n"
     ]
    }
   ],
   "source": [
    "# Decision Tree\n",
    "model2 = DecisionTreeRegressor(random_state=12345)\n",
    "model2.fit(features_train, target_train) # train model on training set\n",
    "\n",
    "# Cross validation using final smape as scoring\n",
    "scores2 = cross_val_score(model2, features_train, target_train, scoring=smape_score, cv=5) \n",
    "final_score2 = sum(scores2) / len(scores2)\n",
    "print('Average model evaluation score:', final_score2)\n",
    "\n"
   ]
  },
  {
   "cell_type": "code",
   "execution_count": 151,
   "metadata": {},
   "outputs": [
    {
     "name": "stdout",
     "output_type": "stream",
     "text": [
      "Average model evaluation score: 0.0658699735201919\n"
     ]
    }
   ],
   "source": [
    "# Random forest \n",
    "model3 = RandomForestRegressor(random_state=12345)\n",
    "model3.fit(features_train, target_train) # train model on training set\n",
    "\n",
    "# Cross validation using final smape as scoring\n",
    "scores3 = cross_val_score(model3, features_train, target_train, scoring=smape_score, cv=5) \n",
    "final_score3 = sum(scores3) / len(scores3)\n",
    "print('Average model evaluation score:', final_score3)\n",
    "\n"
   ]
  },
  {
   "cell_type": "code",
   "execution_count": 152,
   "metadata": {},
   "outputs": [
    {
     "data": {
      "text/plain": [
       "0.05073641448132953"
      ]
     },
     "execution_count": 152,
     "metadata": {},
     "output_type": "execute_result"
    }
   ],
   "source": [
    "# creating a dummy regressor to mimic a constant model that always predicts mean of the train set targets\n",
    "dummy_regressor = DummyRegressor(strategy='mean')\n",
    "dummy_regressor.fit(features_train, target_train)\n",
    "dummy_predictions = dummy_regressor.predict(features_test)\n",
    "f_smape2(target_test, dummy_predictions)"
   ]
  },
  {
   "cell_type": "code",
   "execution_count": 153,
   "metadata": {},
   "outputs": [
    {
     "name": "stdout",
     "output_type": "stream",
     "text": [
      "Final sMAPE score of test data:  0.06458921032546172\n"
     ]
    }
   ],
   "source": [
    "# final model \n",
    "final_model = RandomForestRegressor(random_state=12345)\n",
    "final_model.fit(features_train, target_train)\n",
    "final_predictions = final_model.predict(features_test)\n",
    "result = f_smape2(target_test, final_predictions)\n",
    "print('Final sMAPE score of test data: ', result) "
   ]
  },
  {
   "cell_type": "markdown",
   "metadata": {},
   "source": [
    "# Conclusion"
   ]
  },
  {
   "cell_type": "markdown",
   "metadata": {},
   "source": [
    "Overall, we successfully handled the provided data to complete the project. We verified the correctness of the recovery column by comparing it with our calculated values. We examined the metal concentration distributions, identified and removed anomalies. The data showed increased gold concentrations in the final product and a small amount of gold in the tails. We analyzed gold recovery and compared it with other metals. Ultimately, we trained a model to predict gold recovery and found the decision tree to be the best performing model. Zyfra can use this model to optimize their gold ore refining process."
   ]
  }
 ],
 "metadata": {
  "ExecuteTimeLog": [
   {
    "duration": 9,
    "start_time": "2024-05-21T19:14:14.368Z"
   },
   {
    "duration": 11,
    "start_time": "2024-05-21T19:28:08.199Z"
   },
   {
    "duration": 5221,
    "start_time": "2024-05-21T19:28:30.568Z"
   },
   {
    "duration": 1029,
    "start_time": "2024-05-21T19:30:37.548Z"
   },
   {
    "duration": 4,
    "start_time": "2024-05-21T19:39:25.910Z"
   },
   {
    "duration": 12,
    "start_time": "2024-05-23T23:11:25.443Z"
   },
   {
    "duration": 4,
    "start_time": "2024-05-23T23:11:31.607Z"
   },
   {
    "duration": 5222,
    "start_time": "2024-05-23T23:11:31.886Z"
   },
   {
    "duration": 1074,
    "start_time": "2024-05-23T23:11:37.111Z"
   },
   {
    "duration": 5,
    "start_time": "2024-05-23T23:11:38.188Z"
   },
   {
    "duration": 10,
    "start_time": "2024-05-23T23:11:38.210Z"
   },
   {
    "duration": 4,
    "start_time": "2024-05-23T23:11:55.843Z"
   },
   {
    "duration": 4,
    "start_time": "2024-05-23T23:13:48.578Z"
   },
   {
    "duration": 8,
    "start_time": "2024-05-23T23:16:53.220Z"
   },
   {
    "duration": 5,
    "start_time": "2024-05-23T23:16:57.841Z"
   },
   {
    "duration": 5,
    "start_time": "2024-05-23T23:19:41.060Z"
   },
   {
    "duration": 6,
    "start_time": "2024-05-23T23:24:44.537Z"
   },
   {
    "duration": 10,
    "start_time": "2024-05-31T03:46:21.656Z"
   },
   {
    "duration": 5198,
    "start_time": "2024-05-31T03:46:22.149Z"
   },
   {
    "duration": 956,
    "start_time": "2024-05-31T03:46:27.351Z"
   },
   {
    "duration": 5,
    "start_time": "2024-05-31T03:46:28.310Z"
   },
   {
    "duration": 5,
    "start_time": "2024-05-31T03:46:28.321Z"
   },
   {
    "duration": 4,
    "start_time": "2024-05-31T03:46:28.330Z"
   },
   {
    "duration": 3,
    "start_time": "2024-05-31T03:46:30.967Z"
   },
   {
    "duration": 5,
    "start_time": "2024-05-31T03:46:31.753Z"
   },
   {
    "duration": 5,
    "start_time": "2024-05-31T03:46:32.700Z"
   },
   {
    "duration": 6,
    "start_time": "2024-05-31T04:06:23.235Z"
   },
   {
    "duration": 11,
    "start_time": "2024-05-31T04:28:27.983Z"
   },
   {
    "duration": 7,
    "start_time": "2024-05-31T04:29:13.622Z"
   },
   {
    "duration": 6,
    "start_time": "2024-05-31T04:51:29.739Z"
   },
   {
    "duration": 7,
    "start_time": "2024-05-31T04:53:24.021Z"
   },
   {
    "duration": 4,
    "start_time": "2024-05-31T04:53:51.368Z"
   },
   {
    "duration": 502,
    "start_time": "2024-05-31T04:54:45.254Z"
   },
   {
    "duration": 71,
    "start_time": "2024-05-31T04:54:52.088Z"
   },
   {
    "duration": 4,
    "start_time": "2024-05-31T04:55:05.056Z"
   },
   {
    "duration": 5,
    "start_time": "2024-05-31T04:55:06.821Z"
   },
   {
    "duration": 4,
    "start_time": "2024-05-31T04:55:07.031Z"
   },
   {
    "duration": 4,
    "start_time": "2024-05-31T04:55:07.227Z"
   },
   {
    "duration": 5,
    "start_time": "2024-05-31T04:55:07.391Z"
   },
   {
    "duration": 4,
    "start_time": "2024-05-31T04:55:07.556Z"
   },
   {
    "duration": 7,
    "start_time": "2024-05-31T04:55:07.703Z"
   },
   {
    "duration": 8,
    "start_time": "2024-05-31T04:55:07.893Z"
   },
   {
    "duration": 11,
    "start_time": "2024-05-31T04:55:08.027Z"
   },
   {
    "duration": 6,
    "start_time": "2024-05-31T04:55:08.242Z"
   },
   {
    "duration": 7,
    "start_time": "2024-05-31T04:55:08.410Z"
   },
   {
    "duration": 307,
    "start_time": "2024-05-31T04:55:08.605Z"
   },
   {
    "duration": 161,
    "start_time": "2024-05-31T04:55:33.693Z"
   },
   {
    "duration": 315,
    "start_time": "2024-05-31T04:55:53.263Z"
   },
   {
    "duration": 32,
    "start_time": "2024-05-31T05:02:17.917Z"
   },
   {
    "duration": 39,
    "start_time": "2024-05-31T05:02:36.628Z"
   },
   {
    "duration": 27,
    "start_time": "2024-05-31T06:15:34.031Z"
   },
   {
    "duration": 24,
    "start_time": "2024-05-31T06:15:51.097Z"
   },
   {
    "duration": 19,
    "start_time": "2024-05-31T06:19:31.336Z"
   },
   {
    "duration": 30,
    "start_time": "2024-05-31T06:22:51.256Z"
   },
   {
    "duration": 693,
    "start_time": "2024-05-31T06:24:08.684Z"
   },
   {
    "duration": 89,
    "start_time": "2024-05-31T06:25:32.980Z"
   },
   {
    "duration": 27,
    "start_time": "2024-05-31T06:27:11.913Z"
   },
   {
    "duration": 11,
    "start_time": "2024-05-31T06:28:10.977Z"
   },
   {
    "duration": 4,
    "start_time": "2024-05-31T06:29:20.907Z"
   },
   {
    "duration": 5,
    "start_time": "2024-05-31T06:29:21.195Z"
   },
   {
    "duration": 5,
    "start_time": "2024-05-31T06:29:21.359Z"
   },
   {
    "duration": 4,
    "start_time": "2024-05-31T06:29:21.580Z"
   },
   {
    "duration": 5,
    "start_time": "2024-05-31T06:29:21.768Z"
   },
   {
    "duration": 6,
    "start_time": "2024-05-31T06:29:22.002Z"
   },
   {
    "duration": 6,
    "start_time": "2024-05-31T06:29:22.194Z"
   },
   {
    "duration": 6,
    "start_time": "2024-05-31T06:29:22.421Z"
   },
   {
    "duration": 4,
    "start_time": "2024-05-31T06:29:22.634Z"
   },
   {
    "duration": 290,
    "start_time": "2024-05-31T06:29:22.816Z"
   },
   {
    "duration": 167,
    "start_time": "2024-05-31T06:29:23.110Z"
   },
   {
    "duration": 339,
    "start_time": "2024-05-31T06:29:23.281Z"
   },
   {
    "duration": 38,
    "start_time": "2024-05-31T06:29:23.862Z"
   },
   {
    "duration": 11,
    "start_time": "2024-05-31T06:29:24.109Z"
   },
   {
    "duration": 332,
    "start_time": "2024-06-10T18:52:46.691Z"
   },
   {
    "duration": 4,
    "start_time": "2024-06-10T18:53:08.403Z"
   },
   {
    "duration": 5150,
    "start_time": "2024-06-10T18:53:08.856Z"
   },
   {
    "duration": 995,
    "start_time": "2024-06-10T18:53:14.009Z"
   },
   {
    "duration": 5,
    "start_time": "2024-06-10T18:53:16.012Z"
   },
   {
    "duration": 4,
    "start_time": "2024-06-10T18:53:16.731Z"
   },
   {
    "duration": 8,
    "start_time": "2024-06-10T18:53:17.469Z"
   },
   {
    "duration": 7,
    "start_time": "2024-06-10T18:53:18.489Z"
   },
   {
    "duration": 4,
    "start_time": "2024-06-10T18:53:18.870Z"
   },
   {
    "duration": 7,
    "start_time": "2024-06-10T18:53:20.312Z"
   },
   {
    "duration": 6,
    "start_time": "2024-06-10T18:53:20.909Z"
   },
   {
    "duration": 6,
    "start_time": "2024-06-10T18:53:21.622Z"
   },
   {
    "duration": 6,
    "start_time": "2024-06-10T18:53:22.136Z"
   },
   {
    "duration": 6,
    "start_time": "2024-06-10T18:53:22.665Z"
   },
   {
    "duration": 4,
    "start_time": "2024-06-10T18:53:23.104Z"
   },
   {
    "duration": 303,
    "start_time": "2024-06-10T18:53:23.672Z"
   },
   {
    "duration": 163,
    "start_time": "2024-06-10T18:53:24.428Z"
   },
   {
    "duration": 315,
    "start_time": "2024-06-10T18:53:26.142Z"
   },
   {
    "duration": 39,
    "start_time": "2024-06-10T18:53:29.889Z"
   },
   {
    "duration": 12,
    "start_time": "2024-06-10T18:53:31.762Z"
   },
   {
    "duration": 13,
    "start_time": "2024-06-10T18:53:35.425Z"
   },
   {
    "duration": 15,
    "start_time": "2024-06-10T18:53:37.564Z"
   },
   {
    "duration": 189,
    "start_time": "2024-06-10T19:02:47.027Z"
   },
   {
    "duration": 4,
    "start_time": "2024-06-10T19:09:42.552Z"
   },
   {
    "duration": 4,
    "start_time": "2024-06-10T19:09:43.158Z"
   },
   {
    "duration": 6,
    "start_time": "2024-06-10T19:09:43.500Z"
   },
   {
    "duration": 6,
    "start_time": "2024-06-10T19:09:44.312Z"
   },
   {
    "duration": 6,
    "start_time": "2024-06-10T19:09:44.673Z"
   },
   {
    "duration": 6,
    "start_time": "2024-06-10T19:09:44.977Z"
   },
   {
    "duration": 4,
    "start_time": "2024-06-10T19:09:45.227Z"
   },
   {
    "duration": 365,
    "start_time": "2024-06-10T19:09:45.442Z"
   },
   {
    "duration": 185,
    "start_time": "2024-06-10T19:09:45.811Z"
   },
   {
    "duration": 328,
    "start_time": "2024-06-10T19:09:46.086Z"
   },
   {
    "duration": 37,
    "start_time": "2024-06-10T19:09:47.194Z"
   },
   {
    "duration": 11,
    "start_time": "2024-06-10T19:09:47.812Z"
   },
   {
    "duration": 14,
    "start_time": "2024-06-10T19:09:48.963Z"
   },
   {
    "duration": 9,
    "start_time": "2024-06-10T19:09:50.902Z"
   },
   {
    "duration": 53,
    "start_time": "2024-06-10T19:10:05.640Z"
   },
   {
    "duration": 5,
    "start_time": "2024-06-10T19:10:59.994Z"
   },
   {
    "duration": 5,
    "start_time": "2024-06-10T19:11:00.284Z"
   },
   {
    "duration": 7,
    "start_time": "2024-06-10T19:11:00.533Z"
   },
   {
    "duration": 6,
    "start_time": "2024-06-10T19:11:00.761Z"
   },
   {
    "duration": 6,
    "start_time": "2024-06-10T19:11:00.984Z"
   },
   {
    "duration": 5,
    "start_time": "2024-06-10T19:11:01.186Z"
   },
   {
    "duration": 5,
    "start_time": "2024-06-10T19:11:01.386Z"
   },
   {
    "duration": 355,
    "start_time": "2024-06-10T19:11:01.607Z"
   },
   {
    "duration": 184,
    "start_time": "2024-06-10T19:11:01.966Z"
   },
   {
    "duration": 359,
    "start_time": "2024-06-10T19:11:02.153Z"
   },
   {
    "duration": 38,
    "start_time": "2024-06-10T19:11:03.358Z"
   },
   {
    "duration": 11,
    "start_time": "2024-06-10T19:11:03.573Z"
   },
   {
    "duration": 15,
    "start_time": "2024-06-10T19:11:03.991Z"
   },
   {
    "duration": 106,
    "start_time": "2024-06-10T19:11:05.533Z"
   },
   {
    "duration": 324,
    "start_time": "2024-06-10T19:14:34.247Z"
   },
   {
    "duration": 315,
    "start_time": "2024-06-10T19:16:42.722Z"
   },
   {
    "duration": 314,
    "start_time": "2024-06-10T22:43:17.085Z"
   },
   {
    "duration": 4,
    "start_time": "2024-06-10T22:43:30.365Z"
   },
   {
    "duration": 5393,
    "start_time": "2024-06-10T22:43:30.604Z"
   },
   {
    "duration": 945,
    "start_time": "2024-06-10T22:43:36.001Z"
   },
   {
    "duration": 4,
    "start_time": "2024-06-10T22:43:36.950Z"
   },
   {
    "duration": 5,
    "start_time": "2024-06-10T22:43:40.871Z"
   },
   {
    "duration": 5,
    "start_time": "2024-06-10T22:43:41.457Z"
   },
   {
    "duration": 4,
    "start_time": "2024-06-10T22:43:41.940Z"
   },
   {
    "duration": 5,
    "start_time": "2024-06-10T22:43:42.480Z"
   },
   {
    "duration": 5,
    "start_time": "2024-06-10T22:43:45.036Z"
   },
   {
    "duration": 7,
    "start_time": "2024-06-10T22:43:45.528Z"
   },
   {
    "duration": 6,
    "start_time": "2024-06-10T22:43:46.004Z"
   },
   {
    "duration": 6,
    "start_time": "2024-06-10T22:43:46.244Z"
   },
   {
    "duration": 7,
    "start_time": "2024-06-10T22:43:46.424Z"
   },
   {
    "duration": 5,
    "start_time": "2024-06-10T22:43:46.624Z"
   },
   {
    "duration": 376,
    "start_time": "2024-06-10T22:43:46.805Z"
   },
   {
    "duration": 177,
    "start_time": "2024-06-10T22:43:47.185Z"
   },
   {
    "duration": 343,
    "start_time": "2024-06-10T22:43:47.365Z"
   },
   {
    "duration": 43,
    "start_time": "2024-06-10T22:43:48.305Z"
   },
   {
    "duration": 14,
    "start_time": "2024-06-10T22:43:48.807Z"
   },
   {
    "duration": 15,
    "start_time": "2024-06-10T22:43:49.778Z"
   },
   {
    "duration": 116,
    "start_time": "2024-06-10T22:43:51.395Z"
   },
   {
    "duration": 327,
    "start_time": "2024-06-10T22:43:52.002Z"
   },
   {
    "duration": 146,
    "start_time": "2024-06-10T22:43:53.776Z"
   },
   {
    "duration": 213,
    "start_time": "2024-06-10T22:44:05.648Z"
   },
   {
    "duration": 276,
    "start_time": "2024-06-10T22:44:16.258Z"
   },
   {
    "duration": 47,
    "start_time": "2024-06-10T22:45:07.848Z"
   },
   {
    "duration": 57,
    "start_time": "2024-06-10T22:45:31.216Z"
   },
   {
    "duration": 4,
    "start_time": "2024-06-10T22:46:20.377Z"
   },
   {
    "duration": 242,
    "start_time": "2024-06-10T22:46:24.937Z"
   },
   {
    "duration": 223,
    "start_time": "2024-06-10T22:46:31.912Z"
   },
   {
    "duration": 194,
    "start_time": "2024-06-10T22:46:41.270Z"
   },
   {
    "duration": 190,
    "start_time": "2024-06-10T22:52:11.297Z"
   },
   {
    "duration": 178,
    "start_time": "2024-06-10T22:52:49.999Z"
   },
   {
    "duration": 24,
    "start_time": "2024-06-10T22:52:58.166Z"
   },
   {
    "duration": 24,
    "start_time": "2024-06-10T22:53:09.927Z"
   },
   {
    "duration": 27,
    "start_time": "2024-06-10T22:53:14.896Z"
   },
   {
    "duration": 27,
    "start_time": "2024-06-10T22:53:21.243Z"
   },
   {
    "duration": 223,
    "start_time": "2024-06-10T22:53:26.216Z"
   },
   {
    "duration": 240,
    "start_time": "2024-06-10T22:54:02.204Z"
   },
   {
    "duration": 30,
    "start_time": "2024-06-10T23:05:24.582Z"
   },
   {
    "duration": 703,
    "start_time": "2024-06-10T23:06:10.503Z"
   },
   {
    "duration": 78,
    "start_time": "2024-06-10T23:06:26.909Z"
   },
   {
    "duration": 69,
    "start_time": "2024-06-10T23:06:50.434Z"
   },
   {
    "duration": 68,
    "start_time": "2024-06-10T23:11:45.027Z"
   },
   {
    "duration": 24,
    "start_time": "2024-06-10T23:11:56.594Z"
   },
   {
    "duration": 9,
    "start_time": "2024-06-10T23:11:57.804Z"
   },
   {
    "duration": 23,
    "start_time": "2024-06-10T23:12:03.912Z"
   },
   {
    "duration": 41,
    "start_time": "2024-06-10T23:12:17.364Z"
   },
   {
    "duration": 9,
    "start_time": "2024-06-10T23:13:30.206Z"
   },
   {
    "duration": 799,
    "start_time": "2024-06-10T23:13:30.599Z"
   },
   {
    "duration": 11,
    "start_time": "2024-06-10T23:13:31.401Z"
   },
   {
    "duration": 6,
    "start_time": "2024-06-10T23:13:31.416Z"
   },
   {
    "duration": 6,
    "start_time": "2024-06-10T23:13:31.427Z"
   },
   {
    "duration": 5,
    "start_time": "2024-06-10T23:13:31.437Z"
   },
   {
    "duration": 5,
    "start_time": "2024-06-10T23:13:31.697Z"
   },
   {
    "duration": 5,
    "start_time": "2024-06-10T23:13:31.930Z"
   },
   {
    "duration": 7,
    "start_time": "2024-06-10T23:13:32.140Z"
   },
   {
    "duration": 8,
    "start_time": "2024-06-10T23:13:32.329Z"
   },
   {
    "duration": 8,
    "start_time": "2024-06-10T23:13:32.533Z"
   },
   {
    "duration": 6,
    "start_time": "2024-06-10T23:13:32.721Z"
   },
   {
    "duration": 5,
    "start_time": "2024-06-10T23:13:32.906Z"
   },
   {
    "duration": 348,
    "start_time": "2024-06-10T23:13:33.123Z"
   },
   {
    "duration": 202,
    "start_time": "2024-06-10T23:13:33.474Z"
   },
   {
    "duration": 408,
    "start_time": "2024-06-10T23:13:33.680Z"
   },
   {
    "duration": 37,
    "start_time": "2024-06-10T23:13:43.178Z"
   },
   {
    "duration": 12,
    "start_time": "2024-06-10T23:13:44.332Z"
   },
   {
    "duration": 16,
    "start_time": "2024-06-10T23:13:45.812Z"
   },
   {
    "duration": 124,
    "start_time": "2024-06-10T23:13:49.135Z"
   },
   {
    "duration": 331,
    "start_time": "2024-06-10T23:13:50.083Z"
   },
   {
    "duration": 199,
    "start_time": "2024-06-10T23:13:51.729Z"
   },
   {
    "duration": 235,
    "start_time": "2024-06-10T23:13:51.932Z"
   },
   {
    "duration": 200,
    "start_time": "2024-06-10T23:13:52.268Z"
   },
   {
    "duration": 234,
    "start_time": "2024-06-10T23:13:52.472Z"
   },
   {
    "duration": 298,
    "start_time": "2024-06-10T23:13:52.710Z"
   },
   {
    "duration": 197,
    "start_time": "2024-06-10T23:13:53.012Z"
   },
   {
    "duration": 235,
    "start_time": "2024-06-10T23:13:53.213Z"
   },
   {
    "duration": 232,
    "start_time": "2024-06-10T23:13:53.507Z"
   },
   {
    "duration": 25,
    "start_time": "2024-06-10T23:13:54.566Z"
   },
   {
    "duration": 9,
    "start_time": "2024-06-10T23:13:54.841Z"
   },
   {
    "duration": 46,
    "start_time": "2024-06-10T23:13:55.727Z"
   },
   {
    "duration": 6,
    "start_time": "2024-06-10T23:14:20.158Z"
   },
   {
    "duration": 420,
    "start_time": "2024-06-10T23:14:24.342Z"
   },
   {
    "duration": 6,
    "start_time": "2024-06-10T23:16:32.447Z"
   },
   {
    "duration": 7,
    "start_time": "2024-06-10T23:16:32.792Z"
   },
   {
    "duration": 6,
    "start_time": "2024-06-10T23:16:33.027Z"
   },
   {
    "duration": 5,
    "start_time": "2024-06-10T23:16:33.205Z"
   },
   {
    "duration": 267,
    "start_time": "2024-06-10T23:16:33.382Z"
   },
   {
    "duration": 173,
    "start_time": "2024-06-10T23:16:33.654Z"
   },
   {
    "duration": 327,
    "start_time": "2024-06-10T23:16:33.831Z"
   },
   {
    "duration": 39,
    "start_time": "2024-06-10T23:16:34.371Z"
   },
   {
    "duration": 11,
    "start_time": "2024-06-10T23:16:34.456Z"
   },
   {
    "duration": 13,
    "start_time": "2024-06-10T23:16:34.619Z"
   },
   {
    "duration": 35,
    "start_time": "2024-06-10T23:16:34.953Z"
   },
   {
    "duration": 304,
    "start_time": "2024-06-10T23:16:35.036Z"
   },
   {
    "duration": 237,
    "start_time": "2024-06-10T23:16:35.346Z"
   },
   {
    "duration": 210,
    "start_time": "2024-06-10T23:16:35.586Z"
   },
   {
    "duration": 203,
    "start_time": "2024-06-10T23:16:35.808Z"
   },
   {
    "duration": 216,
    "start_time": "2024-06-10T23:16:36.014Z"
   },
   {
    "duration": 194,
    "start_time": "2024-06-10T23:16:36.233Z"
   },
   {
    "duration": 202,
    "start_time": "2024-06-10T23:16:36.429Z"
   },
   {
    "duration": 239,
    "start_time": "2024-06-10T23:16:36.633Z"
   },
   {
    "duration": 248,
    "start_time": "2024-06-10T23:16:36.877Z"
   },
   {
    "duration": 21,
    "start_time": "2024-06-10T23:16:37.127Z"
   },
   {
    "duration": 9,
    "start_time": "2024-06-10T23:16:37.151Z"
   },
   {
    "duration": 311,
    "start_time": "2024-06-10T23:16:37.163Z"
   },
   {
    "duration": 243,
    "start_time": "2024-06-10T23:16:41.532Z"
   },
   {
    "duration": 6,
    "start_time": "2024-06-10T23:20:12.304Z"
   },
   {
    "duration": 7,
    "start_time": "2024-06-10T23:20:12.954Z"
   },
   {
    "duration": 6,
    "start_time": "2024-06-10T23:20:13.179Z"
   },
   {
    "duration": 6,
    "start_time": "2024-06-10T23:20:13.382Z"
   },
   {
    "duration": 4,
    "start_time": "2024-06-10T23:20:13.589Z"
   },
   {
    "duration": 277,
    "start_time": "2024-06-10T23:20:13.820Z"
   },
   {
    "duration": 167,
    "start_time": "2024-06-10T23:20:14.105Z"
   },
   {
    "duration": 313,
    "start_time": "2024-06-10T23:20:14.503Z"
   },
   {
    "duration": 38,
    "start_time": "2024-06-10T23:20:14.819Z"
   },
   {
    "duration": 11,
    "start_time": "2024-06-10T23:20:14.860Z"
   },
   {
    "duration": 18,
    "start_time": "2024-06-10T23:20:14.997Z"
   },
   {
    "duration": 33,
    "start_time": "2024-06-10T23:20:15.330Z"
   },
   {
    "duration": 320,
    "start_time": "2024-06-10T23:20:15.420Z"
   },
   {
    "duration": 363,
    "start_time": "2024-06-10T23:20:15.744Z"
   },
   {
    "duration": 213,
    "start_time": "2024-06-10T23:20:16.110Z"
   },
   {
    "duration": 228,
    "start_time": "2024-06-10T23:20:16.328Z"
   },
   {
    "duration": 211,
    "start_time": "2024-06-10T23:20:16.558Z"
   },
   {
    "duration": 203,
    "start_time": "2024-06-10T23:20:16.772Z"
   },
   {
    "duration": 199,
    "start_time": "2024-06-10T23:20:16.978Z"
   },
   {
    "duration": 247,
    "start_time": "2024-06-10T23:20:17.180Z"
   },
   {
    "duration": 236,
    "start_time": "2024-06-10T23:20:17.432Z"
   },
   {
    "duration": 38,
    "start_time": "2024-06-10T23:20:17.671Z"
   },
   {
    "duration": 10,
    "start_time": "2024-06-10T23:20:17.711Z"
   },
   {
    "duration": 219,
    "start_time": "2024-06-10T23:20:20.061Z"
   },
   {
    "duration": 27,
    "start_time": "2024-06-10T23:20:38.627Z"
   },
   {
    "duration": 267,
    "start_time": "2024-06-10T23:20:48.511Z"
   },
   {
    "duration": 6,
    "start_time": "2024-06-10T23:22:52.519Z"
   },
   {
    "duration": 6,
    "start_time": "2024-06-10T23:22:52.974Z"
   },
   {
    "duration": 7,
    "start_time": "2024-06-10T23:22:53.095Z"
   },
   {
    "duration": 5,
    "start_time": "2024-06-10T23:22:53.343Z"
   },
   {
    "duration": 260,
    "start_time": "2024-06-10T23:22:53.593Z"
   },
   {
    "duration": 171,
    "start_time": "2024-06-10T23:22:53.867Z"
   },
   {
    "duration": 342,
    "start_time": "2024-06-10T23:22:54.077Z"
   },
   {
    "duration": 37,
    "start_time": "2024-06-10T23:22:54.882Z"
   },
   {
    "duration": 14,
    "start_time": "2024-06-10T23:22:55.076Z"
   },
   {
    "duration": 16,
    "start_time": "2024-06-10T23:22:55.516Z"
   },
   {
    "duration": 34,
    "start_time": "2024-06-10T23:22:56.264Z"
   },
   {
    "duration": 314,
    "start_time": "2024-06-10T23:22:56.763Z"
   },
   {
    "duration": 226,
    "start_time": "2024-06-10T23:22:57.082Z"
   },
   {
    "duration": 227,
    "start_time": "2024-06-10T23:22:57.311Z"
   },
   {
    "duration": 208,
    "start_time": "2024-06-10T23:22:57.542Z"
   },
   {
    "duration": 227,
    "start_time": "2024-06-10T23:22:57.753Z"
   },
   {
    "duration": 190,
    "start_time": "2024-06-10T23:22:57.983Z"
   },
   {
    "duration": 200,
    "start_time": "2024-06-10T23:22:58.176Z"
   },
   {
    "duration": 246,
    "start_time": "2024-06-10T23:22:58.379Z"
   },
   {
    "duration": 247,
    "start_time": "2024-06-10T23:22:58.630Z"
   },
   {
    "duration": 33,
    "start_time": "2024-06-10T23:22:58.880Z"
   },
   {
    "duration": 9,
    "start_time": "2024-06-10T23:22:58.917Z"
   },
   {
    "duration": 268,
    "start_time": "2024-06-10T23:23:16.316Z"
   },
   {
    "duration": 9,
    "start_time": "2024-06-10T23:24:22.679Z"
   },
   {
    "duration": 604,
    "start_time": "2024-06-10T23:24:26.023Z"
   },
   {
    "duration": 34,
    "start_time": "2024-06-10T23:25:35.384Z"
   },
   {
    "duration": 6,
    "start_time": "2024-06-10T23:28:47.282Z"
   },
   {
    "duration": 7,
    "start_time": "2024-06-10T23:28:57.687Z"
   },
   {
    "duration": 35,
    "start_time": "2024-06-10T23:29:07.213Z"
   },
   {
    "duration": 26,
    "start_time": "2024-06-10T23:29:30.251Z"
   },
   {
    "duration": 10,
    "start_time": "2024-06-10T23:29:30.606Z"
   },
   {
    "duration": 835,
    "start_time": "2024-06-10T23:29:31.082Z"
   },
   {
    "duration": 3,
    "start_time": "2024-06-10T23:32:44.731Z"
   },
   {
    "duration": 11,
    "start_time": "2024-06-10T23:32:45.199Z"
   },
   {
    "duration": 767,
    "start_time": "2024-06-10T23:32:45.528Z"
   },
   {
    "duration": 8,
    "start_time": "2024-06-10T23:32:46.300Z"
   },
   {
    "duration": 8,
    "start_time": "2024-06-10T23:32:46.311Z"
   },
   {
    "duration": 4,
    "start_time": "2024-06-10T23:32:46.479Z"
   },
   {
    "duration": 4,
    "start_time": "2024-06-10T23:32:47.223Z"
   },
   {
    "duration": 4,
    "start_time": "2024-06-10T23:32:47.462Z"
   },
   {
    "duration": 5,
    "start_time": "2024-06-10T23:32:47.652Z"
   },
   {
    "duration": 8,
    "start_time": "2024-06-10T23:32:47.892Z"
   },
   {
    "duration": 7,
    "start_time": "2024-06-10T23:32:48.112Z"
   },
   {
    "duration": 6,
    "start_time": "2024-06-10T23:32:48.371Z"
   },
   {
    "duration": 6,
    "start_time": "2024-06-10T23:32:48.637Z"
   },
   {
    "duration": 7,
    "start_time": "2024-06-10T23:32:48.853Z"
   },
   {
    "duration": 305,
    "start_time": "2024-06-10T23:32:49.092Z"
   },
   {
    "duration": 175,
    "start_time": "2024-06-10T23:32:49.407Z"
   },
   {
    "duration": 340,
    "start_time": "2024-06-10T23:32:49.613Z"
   },
   {
    "duration": 38,
    "start_time": "2024-06-10T23:32:50.694Z"
   },
   {
    "duration": 11,
    "start_time": "2024-06-10T23:32:51.337Z"
   },
   {
    "duration": 16,
    "start_time": "2024-06-10T23:32:52.581Z"
   },
   {
    "duration": 120,
    "start_time": "2024-06-10T23:32:54.614Z"
   },
   {
    "duration": 318,
    "start_time": "2024-06-10T23:33:03.832Z"
   },
   {
    "duration": 201,
    "start_time": "2024-06-10T23:33:04.761Z"
   },
   {
    "duration": 205,
    "start_time": "2024-06-10T23:33:05.400Z"
   },
   {
    "duration": 356,
    "start_time": "2024-06-10T23:33:05.940Z"
   },
   {
    "duration": 197,
    "start_time": "2024-06-10T23:33:06.391Z"
   },
   {
    "duration": 185,
    "start_time": "2024-06-10T23:33:06.843Z"
   },
   {
    "duration": 173,
    "start_time": "2024-06-10T23:33:07.514Z"
   },
   {
    "duration": 232,
    "start_time": "2024-06-10T23:33:08.012Z"
   },
   {
    "duration": 233,
    "start_time": "2024-06-10T23:33:08.587Z"
   },
   {
    "duration": 26,
    "start_time": "2024-06-10T23:33:10.621Z"
   },
   {
    "duration": 9,
    "start_time": "2024-06-10T23:33:11.402Z"
   },
   {
    "duration": 518,
    "start_time": "2024-06-10T23:33:12.198Z"
   },
   {
    "duration": 23,
    "start_time": "2024-06-10T23:33:41.847Z"
   },
   {
    "duration": 39,
    "start_time": "2024-06-10T23:34:17.818Z"
   },
   {
    "duration": 9,
    "start_time": "2024-06-10T23:36:06.608Z"
   },
   {
    "duration": 10,
    "start_time": "2024-06-10T23:36:10.556Z"
   },
   {
    "duration": 4,
    "start_time": "2024-06-10T23:36:11.338Z"
   },
   {
    "duration": 39,
    "start_time": "2024-06-10T23:36:20.181Z"
   },
   {
    "duration": 6,
    "start_time": "2024-06-10T23:36:46.180Z"
   },
   {
    "duration": 8,
    "start_time": "2024-06-10T23:36:46.469Z"
   },
   {
    "duration": 5,
    "start_time": "2024-06-10T23:36:46.670Z"
   },
   {
    "duration": 296,
    "start_time": "2024-06-10T23:36:47.158Z"
   },
   {
    "duration": 177,
    "start_time": "2024-06-10T23:36:47.458Z"
   },
   {
    "duration": 358,
    "start_time": "2024-06-10T23:36:47.640Z"
   },
   {
    "duration": 41,
    "start_time": "2024-06-10T23:36:48.005Z"
   },
   {
    "duration": 12,
    "start_time": "2024-06-10T23:36:48.049Z"
   },
   {
    "duration": 44,
    "start_time": "2024-06-10T23:36:48.064Z"
   },
   {
    "duration": 39,
    "start_time": "2024-06-10T23:36:48.148Z"
   },
   {
    "duration": 313,
    "start_time": "2024-06-10T23:36:48.231Z"
   },
   {
    "duration": 220,
    "start_time": "2024-06-10T23:36:48.548Z"
   },
   {
    "duration": 211,
    "start_time": "2024-06-10T23:36:48.771Z"
   },
   {
    "duration": 219,
    "start_time": "2024-06-10T23:36:48.986Z"
   },
   {
    "duration": 215,
    "start_time": "2024-06-10T23:36:49.208Z"
   },
   {
    "duration": 191,
    "start_time": "2024-06-10T23:36:49.426Z"
   },
   {
    "duration": 199,
    "start_time": "2024-06-10T23:36:49.620Z"
   },
   {
    "duration": 241,
    "start_time": "2024-06-10T23:36:49.822Z"
   },
   {
    "duration": 240,
    "start_time": "2024-06-10T23:36:50.067Z"
   },
   {
    "duration": 25,
    "start_time": "2024-06-10T23:36:50.309Z"
   },
   {
    "duration": 11,
    "start_time": "2024-06-10T23:36:50.338Z"
   },
   {
    "duration": 426,
    "start_time": "2024-06-10T23:36:51.198Z"
   },
   {
    "duration": 40,
    "start_time": "2024-06-10T23:36:52.349Z"
   },
   {
    "duration": 3,
    "start_time": "2024-06-10T23:37:35.298Z"
   },
   {
    "duration": 9,
    "start_time": "2024-06-10T23:37:35.742Z"
   },
   {
    "duration": 728,
    "start_time": "2024-06-10T23:37:36.502Z"
   },
   {
    "duration": 5,
    "start_time": "2024-06-10T23:37:38.450Z"
   },
   {
    "duration": 4,
    "start_time": "2024-06-10T23:37:39.198Z"
   },
   {
    "duration": 4,
    "start_time": "2024-06-10T23:37:40.340Z"
   },
   {
    "duration": 4,
    "start_time": "2024-06-10T23:37:40.768Z"
   },
   {
    "duration": 5,
    "start_time": "2024-06-10T23:37:42.584Z"
   },
   {
    "duration": 4,
    "start_time": "2024-06-10T23:37:44.252Z"
   },
   {
    "duration": 7,
    "start_time": "2024-06-10T23:37:49.008Z"
   },
   {
    "duration": 6,
    "start_time": "2024-06-10T23:37:50.815Z"
   },
   {
    "duration": 5,
    "start_time": "2024-06-10T23:38:03.553Z"
   },
   {
    "duration": 7,
    "start_time": "2024-06-10T23:38:04.016Z"
   },
   {
    "duration": 5,
    "start_time": "2024-06-10T23:38:12.230Z"
   },
   {
    "duration": 292,
    "start_time": "2024-06-10T23:38:12.673Z"
   },
   {
    "duration": 179,
    "start_time": "2024-06-10T23:38:12.968Z"
   },
   {
    "duration": 340,
    "start_time": "2024-06-10T23:38:13.150Z"
   },
   {
    "duration": 39,
    "start_time": "2024-06-10T23:38:13.803Z"
   },
   {
    "duration": 12,
    "start_time": "2024-06-10T23:38:13.886Z"
   },
   {
    "duration": 14,
    "start_time": "2024-06-10T23:38:14.053Z"
   },
   {
    "duration": 136,
    "start_time": "2024-06-10T23:38:14.399Z"
   },
   {
    "duration": 324,
    "start_time": "2024-06-10T23:38:14.539Z"
   },
   {
    "duration": 221,
    "start_time": "2024-06-10T23:38:14.866Z"
   },
   {
    "duration": 208,
    "start_time": "2024-06-10T23:38:15.090Z"
   },
   {
    "duration": 205,
    "start_time": "2024-06-10T23:38:15.305Z"
   },
   {
    "duration": 220,
    "start_time": "2024-06-10T23:38:15.512Z"
   },
   {
    "duration": 202,
    "start_time": "2024-06-10T23:38:15.735Z"
   },
   {
    "duration": 201,
    "start_time": "2024-06-10T23:38:15.941Z"
   },
   {
    "duration": 236,
    "start_time": "2024-06-10T23:38:16.145Z"
   },
   {
    "duration": 238,
    "start_time": "2024-06-10T23:38:16.384Z"
   },
   {
    "duration": 21,
    "start_time": "2024-06-10T23:38:16.628Z"
   },
   {
    "duration": 9,
    "start_time": "2024-06-10T23:38:16.653Z"
   },
   {
    "duration": 552,
    "start_time": "2024-06-10T23:38:16.665Z"
   },
   {
    "duration": 115,
    "start_time": "2024-06-10T23:38:17.222Z"
   },
   {
    "duration": 6,
    "start_time": "2024-06-10T23:39:04.613Z"
   },
   {
    "duration": 9,
    "start_time": "2024-06-10T23:39:04.911Z"
   },
   {
    "duration": 7,
    "start_time": "2024-06-10T23:39:05.194Z"
   },
   {
    "duration": 378,
    "start_time": "2024-06-10T23:39:05.433Z"
   },
   {
    "duration": 230,
    "start_time": "2024-06-10T23:39:05.815Z"
   },
   {
    "duration": 534,
    "start_time": "2024-06-10T23:39:06.048Z"
   },
   {
    "duration": 58,
    "start_time": "2024-06-10T23:39:06.586Z"
   },
   {
    "duration": 14,
    "start_time": "2024-06-10T23:39:06.648Z"
   },
   {
    "duration": 15,
    "start_time": "2024-06-10T23:39:07.053Z"
   },
   {
    "duration": 36,
    "start_time": "2024-06-10T23:39:08.039Z"
   },
   {
    "duration": 325,
    "start_time": "2024-06-10T23:39:08.264Z"
   },
   {
    "duration": 229,
    "start_time": "2024-06-10T23:39:09.440Z"
   },
   {
    "duration": 241,
    "start_time": "2024-06-10T23:39:09.736Z"
   },
   {
    "duration": 258,
    "start_time": "2024-06-10T23:39:09.983Z"
   },
   {
    "duration": 225,
    "start_time": "2024-06-10T23:39:10.245Z"
   },
   {
    "duration": 249,
    "start_time": "2024-06-10T23:39:10.475Z"
   },
   {
    "duration": 200,
    "start_time": "2024-06-10T23:39:10.728Z"
   },
   {
    "duration": 286,
    "start_time": "2024-06-10T23:39:10.932Z"
   },
   {
    "duration": 249,
    "start_time": "2024-06-10T23:39:11.222Z"
   },
   {
    "duration": 29,
    "start_time": "2024-06-10T23:39:11.920Z"
   },
   {
    "duration": 28,
    "start_time": "2024-06-10T23:39:12.298Z"
   },
   {
    "duration": 788,
    "start_time": "2024-06-10T23:39:13.426Z"
   },
   {
    "duration": 41194,
    "start_time": "2024-06-10T23:39:14.970Z"
   },
   {
    "duration": 5,
    "start_time": "2024-06-11T00:16:52.541Z"
   },
   {
    "duration": 12,
    "start_time": "2024-06-11T00:17:40.823Z"
   },
   {
    "duration": 12,
    "start_time": "2024-06-11T00:17:47.564Z"
   },
   {
    "duration": 833,
    "start_time": "2024-06-11T00:17:53.251Z"
   },
   {
    "duration": 5,
    "start_time": "2024-06-11T00:17:55.045Z"
   },
   {
    "duration": 7,
    "start_time": "2024-06-11T00:17:55.576Z"
   },
   {
    "duration": 5,
    "start_time": "2024-06-11T00:17:56.137Z"
   },
   {
    "duration": 6,
    "start_time": "2024-06-11T00:18:28.916Z"
   },
   {
    "duration": 6,
    "start_time": "2024-06-11T00:18:29.954Z"
   },
   {
    "duration": 5,
    "start_time": "2024-06-11T00:18:30.528Z"
   },
   {
    "duration": 6,
    "start_time": "2024-06-11T00:18:31.011Z"
   },
   {
    "duration": 7,
    "start_time": "2024-06-11T00:18:31.490Z"
   },
   {
    "duration": 6,
    "start_time": "2024-06-11T00:18:31.915Z"
   },
   {
    "duration": 11,
    "start_time": "2024-06-11T00:18:32.318Z"
   },
   {
    "duration": 5,
    "start_time": "2024-06-11T00:18:32.680Z"
   },
   {
    "duration": 384,
    "start_time": "2024-06-11T00:18:33.072Z"
   },
   {
    "duration": 191,
    "start_time": "2024-06-11T00:18:33.461Z"
   },
   {
    "duration": 354,
    "start_time": "2024-06-11T00:18:33.795Z"
   },
   {
    "duration": 43,
    "start_time": "2024-06-11T00:18:34.750Z"
   },
   {
    "duration": 14,
    "start_time": "2024-06-11T00:18:35.028Z"
   },
   {
    "duration": 15,
    "start_time": "2024-06-11T00:18:36.116Z"
   },
   {
    "duration": 159,
    "start_time": "2024-06-11T00:18:37.883Z"
   },
   {
    "duration": 362,
    "start_time": "2024-06-11T00:18:38.968Z"
   },
   {
    "duration": 208,
    "start_time": "2024-06-11T00:18:40.881Z"
   },
   {
    "duration": 203,
    "start_time": "2024-06-11T00:18:41.725Z"
   },
   {
    "duration": 206,
    "start_time": "2024-06-11T00:18:42.134Z"
   },
   {
    "duration": 201,
    "start_time": "2024-06-11T00:18:42.556Z"
   },
   {
    "duration": 206,
    "start_time": "2024-06-11T00:18:43.248Z"
   },
   {
    "duration": 189,
    "start_time": "2024-06-11T00:18:44.024Z"
   },
   {
    "duration": 271,
    "start_time": "2024-06-11T00:18:44.535Z"
   },
   {
    "duration": 260,
    "start_time": "2024-06-11T00:18:45.493Z"
   },
   {
    "duration": 24,
    "start_time": "2024-06-11T00:18:48.767Z"
   },
   {
    "duration": 11,
    "start_time": "2024-06-11T00:18:49.559Z"
   },
   {
    "duration": 679,
    "start_time": "2024-06-11T00:18:50.831Z"
   },
   {
    "duration": 41792,
    "start_time": "2024-06-11T00:18:52.925Z"
   },
   {
    "duration": 6,
    "start_time": "2024-06-11T00:19:42.876Z"
   },
   {
    "duration": 9,
    "start_time": "2024-06-11T20:41:16.806Z"
   },
   {
    "duration": 5333,
    "start_time": "2024-06-11T20:41:17.842Z"
   },
   {
    "duration": 997,
    "start_time": "2024-06-11T20:41:23.178Z"
   },
   {
    "duration": 4,
    "start_time": "2024-06-11T20:41:24.178Z"
   },
   {
    "duration": 4,
    "start_time": "2024-06-11T20:41:24.188Z"
   },
   {
    "duration": 5,
    "start_time": "2024-06-11T20:41:24.195Z"
   },
   {
    "duration": 4,
    "start_time": "2024-06-11T20:41:24.235Z"
   },
   {
    "duration": 8,
    "start_time": "2024-06-11T20:41:24.242Z"
   },
   {
    "duration": 7,
    "start_time": "2024-06-11T20:41:24.254Z"
   },
   {
    "duration": 6,
    "start_time": "2024-06-11T20:41:24.264Z"
   },
   {
    "duration": 6,
    "start_time": "2024-06-11T20:41:24.277Z"
   },
   {
    "duration": 49,
    "start_time": "2024-06-11T20:41:24.286Z"
   },
   {
    "duration": 9,
    "start_time": "2024-06-11T20:41:24.339Z"
   },
   {
    "duration": 5,
    "start_time": "2024-06-11T20:41:24.351Z"
   },
   {
    "duration": 401,
    "start_time": "2024-06-11T20:41:24.359Z"
   },
   {
    "duration": 179,
    "start_time": "2024-06-11T20:41:24.762Z"
   },
   {
    "duration": 347,
    "start_time": "2024-06-11T20:41:24.944Z"
   },
   {
    "duration": 40,
    "start_time": "2024-06-11T20:41:27.037Z"
   },
   {
    "duration": 12,
    "start_time": "2024-06-11T20:41:27.334Z"
   },
   {
    "duration": 16,
    "start_time": "2024-06-11T20:41:28.310Z"
   },
   {
    "duration": 108,
    "start_time": "2024-06-11T20:41:29.598Z"
   },
   {
    "duration": 350,
    "start_time": "2024-06-11T20:41:29.772Z"
   },
   {
    "duration": 219,
    "start_time": "2024-06-11T20:41:30.533Z"
   },
   {
    "duration": 192,
    "start_time": "2024-06-11T20:41:31.044Z"
   },
   {
    "duration": 202,
    "start_time": "2024-06-11T20:41:31.532Z"
   },
   {
    "duration": 206,
    "start_time": "2024-06-11T20:41:32.234Z"
   },
   {
    "duration": 179,
    "start_time": "2024-06-11T20:41:32.598Z"
   },
   {
    "duration": 177,
    "start_time": "2024-06-11T20:41:32.852Z"
   },
   {
    "duration": 240,
    "start_time": "2024-06-11T20:41:33.053Z"
   },
   {
    "duration": 228,
    "start_time": "2024-06-11T20:41:33.302Z"
   },
   {
    "duration": 26,
    "start_time": "2024-06-11T20:41:34.647Z"
   },
   {
    "duration": 10,
    "start_time": "2024-06-11T20:41:42.692Z"
   },
   {
    "duration": 607,
    "start_time": "2024-06-11T20:41:44.330Z"
   },
   {
    "duration": 7,
    "start_time": "2024-06-11T20:42:56.445Z"
   },
   {
    "duration": 6,
    "start_time": "2024-06-11T20:48:18.666Z"
   },
   {
    "duration": 37,
    "start_time": "2024-06-11T20:59:21.544Z"
   },
   {
    "duration": 12,
    "start_time": "2024-06-21T18:31:26.262Z"
   },
   {
    "duration": 5499,
    "start_time": "2024-06-21T18:31:26.598Z"
   },
   {
    "duration": 965,
    "start_time": "2024-06-21T18:31:32.101Z"
   },
   {
    "duration": 5,
    "start_time": "2024-06-21T18:31:34.324Z"
   },
   {
    "duration": 5,
    "start_time": "2024-06-21T18:31:34.959Z"
   },
   {
    "duration": 4,
    "start_time": "2024-06-21T18:31:35.634Z"
   },
   {
    "duration": 4,
    "start_time": "2024-06-21T18:31:36.160Z"
   },
   {
    "duration": 5,
    "start_time": "2024-06-21T18:31:36.620Z"
   },
   {
    "duration": 8,
    "start_time": "2024-06-21T18:31:37.105Z"
   },
   {
    "duration": 6,
    "start_time": "2024-06-21T18:31:37.511Z"
   },
   {
    "duration": 6,
    "start_time": "2024-06-21T18:31:40.147Z"
   },
   {
    "duration": 7,
    "start_time": "2024-06-21T18:31:40.603Z"
   },
   {
    "duration": 5,
    "start_time": "2024-06-21T18:31:41.010Z"
   },
   {
    "duration": 8,
    "start_time": "2024-06-21T18:56:20.974Z"
   },
   {
    "duration": 6,
    "start_time": "2024-06-21T18:56:56.825Z"
   },
   {
    "duration": 4,
    "start_time": "2024-06-21T19:46:33.257Z"
   },
   {
    "duration": 9,
    "start_time": "2024-06-21T19:46:33.588Z"
   },
   {
    "duration": 962,
    "start_time": "2024-06-21T19:46:34.427Z"
   },
   {
    "duration": 5,
    "start_time": "2024-06-21T19:46:35.997Z"
   },
   {
    "duration": 4,
    "start_time": "2024-06-21T19:46:36.571Z"
   },
   {
    "duration": 4,
    "start_time": "2024-06-21T19:46:36.860Z"
   },
   {
    "duration": 5,
    "start_time": "2024-06-21T19:46:37.118Z"
   },
   {
    "duration": 5,
    "start_time": "2024-06-21T19:46:37.400Z"
   },
   {
    "duration": 6,
    "start_time": "2024-06-21T19:46:37.635Z"
   },
   {
    "duration": 7,
    "start_time": "2024-06-21T19:46:37.881Z"
   },
   {
    "duration": 8,
    "start_time": "2024-06-21T19:46:38.352Z"
   },
   {
    "duration": 7,
    "start_time": "2024-06-21T19:46:38.601Z"
   },
   {
    "duration": 8,
    "start_time": "2024-06-21T19:46:38.841Z"
   },
   {
    "duration": 4,
    "start_time": "2024-06-21T19:46:39.475Z"
   },
   {
    "duration": 378,
    "start_time": "2024-06-21T19:46:39.770Z"
   },
   {
    "duration": 186,
    "start_time": "2024-06-21T19:46:40.152Z"
   },
   {
    "duration": 357,
    "start_time": "2024-06-21T19:46:40.370Z"
   },
   {
    "duration": 40,
    "start_time": "2024-06-21T19:46:44.703Z"
   },
   {
    "duration": 16,
    "start_time": "2024-06-21T19:46:45.393Z"
   },
   {
    "duration": 15,
    "start_time": "2024-06-21T19:46:47.961Z"
   },
   {
    "duration": 115,
    "start_time": "2024-06-21T19:46:50.220Z"
   },
   {
    "duration": 321,
    "start_time": "2024-06-21T19:46:50.659Z"
   },
   {
    "duration": 207,
    "start_time": "2024-06-21T19:46:52.030Z"
   },
   {
    "duration": 203,
    "start_time": "2024-06-21T19:46:52.385Z"
   },
   {
    "duration": 209,
    "start_time": "2024-06-21T19:46:53.019Z"
   },
   {
    "duration": 209,
    "start_time": "2024-06-21T19:46:53.385Z"
   },
   {
    "duration": 186,
    "start_time": "2024-06-21T19:46:53.671Z"
   },
   {
    "duration": 178,
    "start_time": "2024-06-21T19:46:53.986Z"
   },
   {
    "duration": 223,
    "start_time": "2024-06-21T19:46:54.261Z"
   },
   {
    "duration": 233,
    "start_time": "2024-06-21T19:46:54.532Z"
   },
   {
    "duration": 25,
    "start_time": "2024-06-21T19:46:55.889Z"
   },
   {
    "duration": 11,
    "start_time": "2024-06-21T19:46:58.815Z"
   },
   {
    "duration": 551,
    "start_time": "2024-06-21T19:47:01.186Z"
   },
   {
    "duration": 40393,
    "start_time": "2024-06-21T19:47:06.319Z"
   },
   {
    "duration": 822593,
    "start_time": "2024-06-21T19:47:49.201Z"
   },
   {
    "duration": 7,
    "start_time": "2024-06-21T20:04:03.805Z"
   },
   {
    "duration": 5,
    "start_time": "2024-06-21T20:04:17.986Z"
   },
   {
    "duration": 1038637,
    "start_time": "2024-06-21T20:04:31.405Z"
   },
   {
    "duration": 443,
    "start_time": "2024-06-21T20:23:50.701Z"
   },
   {
    "duration": 8,
    "start_time": "2024-06-21T20:32:40.214Z"
   },
   {
    "duration": 5,
    "start_time": "2024-06-21T20:46:58.106Z"
   },
   {
    "duration": 32,
    "start_time": "2024-06-21T20:47:08.801Z"
   },
   {
    "duration": 10,
    "start_time": "2024-06-21T20:47:19.007Z"
   },
   {
    "duration": 9,
    "start_time": "2024-06-21T20:48:33.423Z"
   },
   {
    "duration": 1940,
    "start_time": "2024-06-21T20:49:50.376Z"
   },
   {
    "duration": 7236,
    "start_time": "2024-06-21T20:49:58.241Z"
   },
   {
    "duration": 8,
    "start_time": "2024-06-21T20:53:53.593Z"
   },
   {
    "duration": 11,
    "start_time": "2024-06-21T20:54:22.053Z"
   },
   {
    "duration": 8,
    "start_time": "2024-06-21T20:57:19.285Z"
   },
   {
    "duration": 31,
    "start_time": "2024-06-21T21:01:10.061Z"
   },
   {
    "duration": 782,
    "start_time": "2024-06-21T21:01:10.540Z"
   },
   {
    "duration": 9,
    "start_time": "2024-06-21T21:01:26.036Z"
   },
   {
    "duration": 800,
    "start_time": "2024-06-21T21:01:26.524Z"
   },
   {
    "duration": 5,
    "start_time": "2024-06-21T21:01:31.594Z"
   },
   {
    "duration": 5,
    "start_time": "2024-06-21T21:01:32.205Z"
   },
   {
    "duration": 4,
    "start_time": "2024-06-21T21:01:32.639Z"
   },
   {
    "duration": 4,
    "start_time": "2024-06-21T21:01:33.113Z"
   },
   {
    "duration": 4,
    "start_time": "2024-06-21T21:01:33.422Z"
   },
   {
    "duration": 5,
    "start_time": "2024-06-21T21:01:33.781Z"
   },
   {
    "duration": 8,
    "start_time": "2024-06-21T21:01:34.075Z"
   },
   {
    "duration": 9,
    "start_time": "2024-06-21T21:01:34.292Z"
   },
   {
    "duration": 10,
    "start_time": "2024-06-21T21:02:44.656Z"
   },
   {
    "duration": 36,
    "start_time": "2024-06-21T21:03:23.844Z"
   },
   {
    "duration": 11,
    "start_time": "2024-06-21T21:03:59.240Z"
   },
   {
    "duration": 374,
    "start_time": "2024-06-21T21:04:54.668Z"
   },
   {
    "duration": 8,
    "start_time": "2024-06-21T21:17:02.492Z"
   },
   {
    "duration": 365,
    "start_time": "2024-06-21T21:17:21.290Z"
   },
   {
    "duration": 1525,
    "start_time": "2024-06-21T21:19:18.231Z"
   },
   {
    "duration": 7701,
    "start_time": "2024-06-21T21:19:23.970Z"
   },
   {
    "duration": 7218,
    "start_time": "2024-06-21T21:19:34.636Z"
   },
   {
    "duration": 147,
    "start_time": "2024-06-21T21:20:01.406Z"
   },
   {
    "duration": 366,
    "start_time": "2024-06-21T21:20:20.674Z"
   },
   {
    "duration": 7239,
    "start_time": "2024-06-21T21:20:26.594Z"
   },
   {
    "duration": 7246,
    "start_time": "2024-06-21T21:20:48.036Z"
   },
   {
    "duration": 7,
    "start_time": "2024-06-21T21:23:30.567Z"
   },
   {
    "duration": 4,
    "start_time": "2024-06-21T21:23:33.795Z"
   },
   {
    "duration": 302,
    "start_time": "2024-06-21T21:23:33.987Z"
   },
   {
    "duration": 182,
    "start_time": "2024-06-21T21:23:34.292Z"
   },
   {
    "duration": 370,
    "start_time": "2024-06-21T21:23:34.479Z"
   },
   {
    "duration": 37,
    "start_time": "2024-06-21T21:23:37.893Z"
   },
   {
    "duration": 11,
    "start_time": "2024-06-21T21:23:38.137Z"
   },
   {
    "duration": 14,
    "start_time": "2024-06-21T21:23:38.897Z"
   },
   {
    "duration": 105,
    "start_time": "2024-06-21T21:23:40.449Z"
   },
   {
    "duration": 303,
    "start_time": "2024-06-21T21:23:40.662Z"
   },
   {
    "duration": 233,
    "start_time": "2024-06-21T21:23:41.309Z"
   },
   {
    "duration": 195,
    "start_time": "2024-06-21T21:23:41.681Z"
   },
   {
    "duration": 199,
    "start_time": "2024-06-21T21:23:42.057Z"
   },
   {
    "duration": 215,
    "start_time": "2024-06-21T21:23:42.259Z"
   },
   {
    "duration": 206,
    "start_time": "2024-06-21T21:23:42.480Z"
   },
   {
    "duration": 200,
    "start_time": "2024-06-21T21:23:42.689Z"
   },
   {
    "duration": 333,
    "start_time": "2024-06-21T21:23:42.893Z"
   },
   {
    "duration": 245,
    "start_time": "2024-06-21T21:23:43.229Z"
   },
   {
    "duration": 32,
    "start_time": "2024-06-21T21:23:45.300Z"
   },
   {
    "duration": 9,
    "start_time": "2024-06-21T21:23:47.022Z"
   },
   {
    "duration": 407,
    "start_time": "2024-06-21T21:23:48.329Z"
   },
   {
    "duration": 7238,
    "start_time": "2024-06-21T21:23:55.343Z"
   },
   {
    "duration": 5,
    "start_time": "2024-06-21T21:24:14.845Z"
   },
   {
    "duration": 10,
    "start_time": "2024-06-21T21:24:15.967Z"
   },
   {
    "duration": 845,
    "start_time": "2024-06-21T21:24:16.171Z"
   },
   {
    "duration": 5,
    "start_time": "2024-06-21T21:24:17.020Z"
   },
   {
    "duration": 4,
    "start_time": "2024-06-21T21:24:17.034Z"
   },
   {
    "duration": 5,
    "start_time": "2024-06-21T21:24:17.042Z"
   },
   {
    "duration": 5,
    "start_time": "2024-06-21T21:24:17.611Z"
   },
   {
    "duration": 6,
    "start_time": "2024-06-21T21:24:17.821Z"
   },
   {
    "duration": 4,
    "start_time": "2024-06-21T21:24:18.016Z"
   },
   {
    "duration": 7,
    "start_time": "2024-06-21T21:24:18.178Z"
   },
   {
    "duration": 5,
    "start_time": "2024-06-21T21:24:18.890Z"
   },
   {
    "duration": 295,
    "start_time": "2024-06-21T21:24:19.069Z"
   },
   {
    "duration": 180,
    "start_time": "2024-06-21T21:24:19.368Z"
   },
   {
    "duration": 341,
    "start_time": "2024-06-21T21:24:19.552Z"
   },
   {
    "duration": 38,
    "start_time": "2024-06-21T21:24:20.240Z"
   },
   {
    "duration": 12,
    "start_time": "2024-06-21T21:24:20.431Z"
   },
   {
    "duration": 16,
    "start_time": "2024-06-21T21:24:21.334Z"
   },
   {
    "duration": 115,
    "start_time": "2024-06-21T21:24:22.354Z"
   },
   {
    "duration": 304,
    "start_time": "2024-06-21T21:24:22.584Z"
   },
   {
    "duration": 246,
    "start_time": "2024-06-21T21:24:23.204Z"
   },
   {
    "duration": 222,
    "start_time": "2024-06-21T21:24:23.454Z"
   },
   {
    "duration": 199,
    "start_time": "2024-06-21T21:24:23.895Z"
   },
   {
    "duration": 192,
    "start_time": "2024-06-21T21:24:24.571Z"
   },
   {
    "duration": 185,
    "start_time": "2024-06-21T21:24:24.887Z"
   },
   {
    "duration": 182,
    "start_time": "2024-06-21T21:24:25.116Z"
   },
   {
    "duration": 229,
    "start_time": "2024-06-21T21:24:25.338Z"
   },
   {
    "duration": 249,
    "start_time": "2024-06-21T21:24:25.571Z"
   },
   {
    "duration": 32,
    "start_time": "2024-06-21T21:24:27.256Z"
   },
   {
    "duration": 9,
    "start_time": "2024-06-21T21:24:28.583Z"
   },
   {
    "duration": 348,
    "start_time": "2024-06-21T21:24:29.494Z"
   },
   {
    "duration": 7206,
    "start_time": "2024-06-21T21:24:31.967Z"
   },
   {
    "duration": 31,
    "start_time": "2024-06-21T21:26:32.204Z"
   },
   {
    "duration": 10,
    "start_time": "2024-06-21T21:26:33.633Z"
   },
   {
    "duration": 753,
    "start_time": "2024-06-21T21:26:34.286Z"
   },
   {
    "duration": 7959,
    "start_time": "2024-06-21T21:26:38.145Z"
   },
   {
    "duration": 9,
    "start_time": "2024-06-21T21:30:03.919Z"
   },
   {
    "duration": 782,
    "start_time": "2024-06-21T21:30:05.466Z"
   },
   {
    "duration": 7964,
    "start_time": "2024-06-21T21:30:07.981Z"
   },
   {
    "duration": 492306,
    "start_time": "2024-06-21T21:31:12.020Z"
   },
   {
    "duration": 7,
    "start_time": "2024-06-21T21:41:11.187Z"
   },
   {
    "duration": 100268,
    "start_time": "2024-06-21T21:42:33.687Z"
   }
  ],
  "kernelspec": {
   "display_name": "Python 3 (ipykernel)",
   "language": "python",
   "name": "python3"
  },
  "language_info": {
   "codemirror_mode": {
    "name": "ipython",
    "version": 3
   },
   "file_extension": ".py",
   "mimetype": "text/x-python",
   "name": "python",
   "nbconvert_exporter": "python",
   "pygments_lexer": "ipython3",
   "version": "3.9.19"
  },
  "toc": {
   "base_numbering": 1,
   "nav_menu": {},
   "number_sections": true,
   "sideBar": true,
   "skip_h1_title": true,
   "title_cell": "Table of Contents",
   "title_sidebar": "Contents",
   "toc_cell": false,
   "toc_position": {},
   "toc_section_display": true,
   "toc_window_display": false
  }
 },
 "nbformat": 4,
 "nbformat_minor": 2
}
