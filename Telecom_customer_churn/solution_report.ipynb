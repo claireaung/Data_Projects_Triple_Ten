{
 "cells": [
  {
   "cell_type": "markdown",
   "metadata": {},
   "source": [
    "# Solution Report\n",
    "\n",
    "1. What steps of the plan were performed and what steps were skipped (explain why)?\n",
    "\n",
    "We followed the steps in our outline, performing preprocessing, EDA using histograms, box plots, a correlation matrix, and checking for class imbalance. Then, we trained the model using five methods: dummy, decision tree, logistic regression, random forest, and CatBoost. We validated the models on a 20% test set to ensure they were functioning properly.\n",
    "\n",
    "We skipped hyperparameter tuning since our models already met the AUC-ROC and accuracy benchmarks. Given that hyperparameter tuning is time-consuming and would not significantly improve our results, we decided it was unnecessary.\n",
    "\n",
    "2. What difficulties did you encounter and how did you manage to solve them?\n",
    "\n",
    "One of the main challenges in the project was during the preprocessing phase, specifically in figuring out how to manipulate the data frame to maximize the data available for model training. Creating the CustomerDuration feature proved somewhat difficult, but finding online resources for similar problems made it easier to get the data in the right format.\n",
    "\n",
    "3. What were some of the key steps to solving the task?\n",
    "\n",
    "Preprocessing was likely the most crucial step in solving the task, particularly the addition of the CustomerDuration feature. As shown in our EDA, CustomerDuration had the strongest correlation with whether or not a user canceled their service. Our histogram revealed that after 12 months, CustomerDuration follows an approximately uniform distribution, meaning that if we can retain a customer for 6-12 months, they are likely to continue using the service.\n",
    "\n",
    "Regarding how to best leverage data analysis and the predictive model for policy-making, the correlation matrix was very insightful. It highlighted correlations between additional internet services and customer retention, helping us identify areas performing well and those that might need improvement.\n",
    "\n",
    "4. What is your final model and what quality score does it have?\n",
    "\n",
    "The final model, a CatBoost classifier, was trained on 60% of the data set using default hyperparameters. Its ROC-AUC score on the 20% test set is 0.95, with an accuracy of 0.91. This means the model has around a 1.49% false negative rate and a 7.31% false positive rate.\n",
    "\n",
    "In practical terms, the model misses identifying customers likely to leave only 1.49% of the time and falsely predicts a customer will leave 7.31% of the time. For customer retention purposes, this model performs very effectively."
   ]
  }
 ],
 "metadata": {
  "kernelspec": {
   "display_name": "Python 3 (ipykernel)",
   "language": "python",
   "name": "python3"
  },
  "language_info": {
   "codemirror_mode": {
    "name": "ipython",
    "version": 3
   },
   "file_extension": ".py",
   "mimetype": "text/x-python",
   "name": "python",
   "nbconvert_exporter": "python",
   "pygments_lexer": "ipython3",
   "version": "3.9.19"
  },
  "toc": {
   "base_numbering": 1,
   "nav_menu": {},
   "number_sections": true,
   "sideBar": true,
   "skip_h1_title": true,
   "title_cell": "Table of Contents",
   "title_sidebar": "Contents",
   "toc_cell": false,
   "toc_position": {},
   "toc_section_display": true,
   "toc_window_display": false
  }
 },
 "nbformat": 4,
 "nbformat_minor": 2
}
