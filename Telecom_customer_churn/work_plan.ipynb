{
 "cells": [
  {
   "cell_type": "markdown",
   "metadata": {},
   "source": [
    "# Work Plan"
   ]
  },
  {
   "cell_type": "markdown",
   "metadata": {},
   "source": [
    "The goal is to build a predictive model that forecasts when a customer is likely to cancel their service. Before diving into model creation, we will first classify users based on whether they canceled or continued their service. We'll use that data to predict future cancellations."
   ]
  },
  {
   "cell_type": "markdown",
   "metadata": {},
   "source": [
    "## Data Preprocessing\n",
    "\n",
    "- Understand the four data frames:\n",
    "\n",
    "    - Check for duplicates, missing values, and improper data types.\n",
    "\n",
    "- Depending on the results, preprocessing could involve:\n",
    "\n",
    "    - Removing duplicates.\n",
    "    - Handling missing values (filling or removing them).\n",
    "    - Converting data to correct types.\n",
    "    - Encoding data for easier analysis.\n",
    "\n",
    "- Consider merging all four datasets into one."
   ]
  },
  {
   "cell_type": "markdown",
   "metadata": {},
   "source": [
    "## Exploratory Data Analysis\n",
    "\n",
    "- Visualize the data (histograms, box plots, correlation matrices).\n",
    "- Identify outliers and examine features that may relate to the target.\n",
    "- If encoding is used, check for class imbalance and adjust if needed."
   ]
  },
  {
   "cell_type": "markdown",
   "metadata": {},
   "source": [
    "## Model Training\n",
    "\n",
    "- Use a supervised learning model.\n",
    "  - Split data into features and target (EndDate column).\n",
    "  - Use a 60/20/20 split for training, validation, and testing.\n",
    "- Aim for an AUC-ROC of at least 0.75, but strive for 0.88.\n",
    "- Test multiple models: Dummy, Decision Tree, Linear Regression, Random Forest, CatBoost, Light GBM, and XGBoost (only if necessary)."
   ]
  },
  {
   "cell_type": "markdown",
   "metadata": {},
   "source": [
    "## Model Testing\n",
    "\n",
    "- Evaluate performance on the test set for AUC-ROC and accuracy.\n",
    "- Fine-tune the model or adjust training set size if necessary (consider 70/15/15 split if 60% is insufficient)."
   ]
  },
  {
   "cell_type": "markdown",
   "metadata": {},
   "source": [
    "## Conclusions\n",
    "\n",
    "- Final conclusions will be drawn after project completion.\n",
    "- The project must meet these targets:\n",
    "     - Code is error-free and organized.\n",
    "     - Documentation explains each section of code.\n",
    "     - Data is processed and prepared.\n",
    "     - EDA with visuals is completed.\n",
    "     - Models are trained.\n",
    "     - The final model has an AUC-ROC of at least 0.75."
   ]
  },
  {
   "cell_type": "code",
   "execution_count": null,
   "metadata": {},
   "outputs": [],
   "source": []
  }
 ],
 "metadata": {
  "kernelspec": {
   "display_name": "Python 3 (ipykernel)",
   "language": "python",
   "name": "python3"
  },
  "language_info": {
   "codemirror_mode": {
    "name": "ipython",
    "version": 3
   },
   "file_extension": ".py",
   "mimetype": "text/x-python",
   "name": "python",
   "nbconvert_exporter": "python",
   "pygments_lexer": "ipython3",
   "version": "3.9.19"
  },
  "toc": {
   "base_numbering": 1,
   "nav_menu": {},
   "number_sections": true,
   "sideBar": true,
   "skip_h1_title": true,
   "title_cell": "Table of Contents",
   "title_sidebar": "Contents",
   "toc_cell": false,
   "toc_position": {},
   "toc_section_display": true,
   "toc_window_display": false
  }
 },
 "nbformat": 4,
 "nbformat_minor": 2
}
